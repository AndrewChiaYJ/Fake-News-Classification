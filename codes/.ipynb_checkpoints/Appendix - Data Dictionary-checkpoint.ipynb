{
 "cells": [
  {
   "cell_type": "markdown",
   "metadata": {},
   "source": [
    "<img src=\"http://imgur.com/1ZcRyrc.png\" style=\"float: left; margin: 20px; height: 100px\">\n",
    "\n",
    "# Capstone: Fake News Classification\n",
    "\n",
    "## Appendix - Data Dictionary"
   ]
  },
  {
   "cell_type": "markdown",
   "metadata": {},
   "source": [
    "### Contents:\n",
    "- [Data Dictionary](#Data-Dictionary)"
   ]
  },
  {
   "cell_type": "markdown",
   "metadata": {},
   "source": [
    "## Data Dictionary"
   ]
  },
  {
   "cell_type": "markdown",
   "metadata": {},
   "source": [
    "### Dataset: train_modified, test_modified"
   ]
  },
  {
   "cell_type": "markdown",
   "metadata": {},
   "source": [
    "|Feature  |Type  |Description  |    Item in Feature and Their Meaning   |\n",
    "|:---:|:---:|:---:|:---|\n",
    "|**id**|*integer*|Unique integer that record the news articles entries|Unique integer that record the news articles entries|\n",
    "|**title**|*string*|Unique string representing the title of the news article|Unique string representing the title of the news article|\n",
    "|**author**|*string*|Unique string representing the author of the news article|Unique string representing the author of the news article|\n",
    "|**text**|*string*|Unique string representing the main body text of the news article|Unique string representing the main body text of the news article|\n",
    "|**label**|*integer*|Integers representing if the news article is fake or real|0: Real News Article|\n",
    "||||1: Fake News Article|\n",
    "|**title_text**|*string*|Unique string representing the concatenation of title and body text of the news article|Unique string representing the concatenation of title and body text of the news article|\n",
    "|**title_text_clean**|*list of strings*|Unique list of string which is the tokenized and cleansed version of title_text|Unique list of string which is the tokenized and cleansed version of title_text|"
   ]
  }
 ],
 "metadata": {
  "kernelspec": {
   "display_name": "Python 3",
   "language": "python",
   "name": "python3"
  },
  "language_info": {
   "codemirror_mode": {
    "name": "ipython",
    "version": 3
   },
   "file_extension": ".py",
   "mimetype": "text/x-python",
   "name": "python",
   "nbconvert_exporter": "python",
   "pygments_lexer": "ipython3",
   "version": "3.8.5"
  }
 },
 "nbformat": 4,
 "nbformat_minor": 4
}
