{
 "cells": [
  {
   "cell_type": "markdown",
   "metadata": {},
   "source": [
    "<img src=\"http://imgur.com/1ZcRyrc.png\" style=\"float: left; margin: 20px; height: 100px\">\n",
    "\n",
    "# Capstone: Fake News Classification\n",
    "\n",
    "# Part 1: P. Statement, Background, Data Cleaning, NLP, and EDA"
   ]
  },
  {
   "cell_type": "markdown",
   "metadata": {},
   "source": [
    "### Contents:\n",
    "- [Problem Statement/Background](#Problem-Statement-/-Background)\n",
    "    - [Problem Statement](#Problem-Statement)\n",
    "    - [Background](#Background)\n",
    "- [Data Collection](#Data-Collection)\n",
    "- [Data Cleaning of Train Dataset](#Data-Cleaning-of-Train-Dataset)\n",
    "- [Data Cleaning of Test Dataset](#Data-Cleaning-of-Test-Dataset)\n",
    "- [Data Cleaning Using NLP Techniques](#Data-Cleaning-Using-Natural-Language-Processing-Techniques)\n",
    "- [Exploratory Data Analysis](#Exploratory-Data-Analysis-(EDA))\n",
    "    - [N-Gram Method](#Using-N-Gram-Method)\n",
    "    - [Sentiment Analysis](#To-understand-the-sentiment-of-the-articles-that-is-real-/-fake)"
   ]
  },
  {
   "cell_type": "markdown",
   "metadata": {},
   "source": [
    "# Problem Statement / Background"
   ]
  },
  {
   "cell_type": "markdown",
   "metadata": {},
   "source": [
    "## Problem Statement"
   ]
  },
  {
   "attachments": {},
   "cell_type": "markdown",
   "metadata": {},
   "source": [
    "This projects aim to use data science methods (classification modellings) to predict whether a news article is fake or real, with prediction having the higher the accuracy, F1 and AUC Score the better (as close to 1 as possible), so as to enable US citizens to have a better capability to differentiate between fake or real news."
   ]
  },
  {
   "cell_type": "markdown",
   "metadata": {},
   "source": [
    "## Background"
   ]
  },
  {
   "attachments": {},
   "cell_type": "markdown",
   "metadata": {},
   "source": [
    "**What is fake news?**\n",
    "\n",
    "Fake news are false or misleading information presented as news. The purpose of fake news is to damage the reputation of a person or entity, or making money through advertising revenue.\n",
    "\n",
    "**Danger of fake news problem**\n",
    "\n",
    "According to [NewsGuard](https://www.axios.com/unreliable-news-sources-social-media-engagement-297bf046-c1b0-4e69-9875-05443b1dca73.html?utm_campaign=organic&utm_medium=socialshare&utm_source=twitter), in the year 2020, 2.8b out of 16.3b (17%) of social media engagement among the top 100 news sources on social media came from unrealiable source (i.e fake news).\n",
    "\n",
    "A report published by [CHEC](https://s3.amazonaws.com/media.mediapost.com/uploads/EconomicCostOfFakeNews.pdf) in the year 2019 estimated the global economic cost of fake news to be $78 billion per year which includes direct and indirect cost incurred in the following areas: stock markets, media, reputation management, election campaigns, financial information and healthcare.\n",
    "\n",
    "**Fake News in US**\n",
    "\n",
    "In US, most of the fake news revolve around politics. \n",
    "\n",
    "In the 2016 presidential election, fake news as a term have become a buzzword  (Egelhofer and Lechele, 2019; Egelhofer, et al., 2020; Farkas and Schou, 2018). A [buzzfeed](https://abcnews.go.com/Technology/fake-news-stories-make-real-news-headlines/story?id=43845383) analysis found that the top fake news stories in that election received more engagement on social media than top stories from major media outlets. \n",
    "\n",
    "After Donald Trump won the 2016 election, there are [studies](https://www.washingtonpost.com/news/the-fix/wp/2018/04/03/a-new-study-suggests-fake-news-might-have-won-donald-trump-the-2016-election/) being conducted on his win, and fake news is attributed to be one of the reasons of his win. Some of the fake news being spread around that time are: Hillary Clinton approved weapons sales to ISIS, Hillary Clinton was in “very poor health due to serious illness”.\n",
    "\n",
    "In the 2020 presidential election, multiple [fake news](https://edition.cnn.com/business/live-news/election-2020-misinformation/index.html) being generated to portray that the election was fraud and was stolen from Republicans and Donald Trump. Some examples of these are: Burning of ballot boxes with votes belonging to Trump, Claims that dead people went voting, etc.\n",
    "\n",
    "As a result of believing in fake news, and believing that Trump actually won the election and stolen, a mob of supporters of Trump violently attacked the United States Capitol in Washington, D.C. on January 6, 2021.\n"
   ]
  },
  {
   "cell_type": "markdown",
   "metadata": {},
   "source": [
    "# Data Collection"
   ]
  },
  {
   "cell_type": "markdown",
   "metadata": {},
   "source": [
    "## Import all necessary libraries"
   ]
  },
  {
   "cell_type": "code",
   "execution_count": 1,
   "metadata": {},
   "outputs": [],
   "source": [
    "# Import all necessary libraries\n",
    "import numpy as np\n",
    "import pandas as pd\n",
    "import matplotlib.pyplot as plt\n",
    "import seaborn as sns\n",
    "import time\n",
    "import datetime as dt\n",
    "import nltk\n",
    "import string\n",
    "import re\n",
    "\n",
    "from sklearn.feature_extraction.text import CountVectorizer\n",
    "from nltk.sentiment.vader import SentimentIntensityAnalyzer as SIA\n",
    "\n",
    "#hide warnings\n",
    "import warnings\n",
    "warnings.filterwarnings('ignore')"
   ]
  },
  {
   "cell_type": "markdown",
   "metadata": {},
   "source": [
    "## Import Datasets"
   ]
  },
  {
   "cell_type": "code",
   "execution_count": 2,
   "metadata": {},
   "outputs": [],
   "source": [
    "# Import train dataset\n",
    "train = pd.read_csv(\"../datasets/train.csv\")"
   ]
  },
  {
   "cell_type": "code",
   "execution_count": 3,
   "metadata": {},
   "outputs": [],
   "source": [
    "# Import test dataset\n",
    "test = pd.read_csv(\"../datasets/test.csv\")"
   ]
  },
  {
   "cell_type": "markdown",
   "metadata": {},
   "source": [
    "# Data Cleaning of Train Dataset"
   ]
  },
  {
   "cell_type": "code",
   "execution_count": 4,
   "metadata": {},
   "outputs": [
    {
     "data": {
      "text/plain": [
       "(20800, 5)"
      ]
     },
     "execution_count": 4,
     "metadata": {},
     "output_type": "execute_result"
    }
   ],
   "source": [
    "# Print the shape of dataframe\n",
    "train.shape\n",
    "\n",
    "# There are 20800 rows and 5 columns"
   ]
  },
  {
   "cell_type": "code",
   "execution_count": 5,
   "metadata": {},
   "outputs": [
    {
     "data": {
      "text/html": [
       "<div>\n",
       "<style scoped>\n",
       "    .dataframe tbody tr th:only-of-type {\n",
       "        vertical-align: middle;\n",
       "    }\n",
       "\n",
       "    .dataframe tbody tr th {\n",
       "        vertical-align: top;\n",
       "    }\n",
       "\n",
       "    .dataframe thead th {\n",
       "        text-align: right;\n",
       "    }\n",
       "</style>\n",
       "<table border=\"1\" class=\"dataframe\">\n",
       "  <thead>\n",
       "    <tr style=\"text-align: right;\">\n",
       "      <th></th>\n",
       "      <th>id</th>\n",
       "      <th>title</th>\n",
       "      <th>author</th>\n",
       "      <th>text</th>\n",
       "      <th>label</th>\n",
       "    </tr>\n",
       "  </thead>\n",
       "  <tbody>\n",
       "    <tr>\n",
       "      <th>0</th>\n",
       "      <td>0</td>\n",
       "      <td>House Dem Aide: We Didn’t Even See Comey’s Let...</td>\n",
       "      <td>Darrell Lucus</td>\n",
       "      <td>House Dem Aide: We Didn’t Even See Comey’s Let...</td>\n",
       "      <td>1</td>\n",
       "    </tr>\n",
       "    <tr>\n",
       "      <th>1</th>\n",
       "      <td>1</td>\n",
       "      <td>FLYNN: Hillary Clinton, Big Woman on Campus - ...</td>\n",
       "      <td>Daniel J. Flynn</td>\n",
       "      <td>Ever get the feeling your life circles the rou...</td>\n",
       "      <td>0</td>\n",
       "    </tr>\n",
       "    <tr>\n",
       "      <th>2</th>\n",
       "      <td>2</td>\n",
       "      <td>Why the Truth Might Get You Fired</td>\n",
       "      <td>Consortiumnews.com</td>\n",
       "      <td>Why the Truth Might Get You Fired October 29, ...</td>\n",
       "      <td>1</td>\n",
       "    </tr>\n",
       "    <tr>\n",
       "      <th>3</th>\n",
       "      <td>3</td>\n",
       "      <td>15 Civilians Killed In Single US Airstrike Hav...</td>\n",
       "      <td>Jessica Purkiss</td>\n",
       "      <td>Videos 15 Civilians Killed In Single US Airstr...</td>\n",
       "      <td>1</td>\n",
       "    </tr>\n",
       "    <tr>\n",
       "      <th>4</th>\n",
       "      <td>4</td>\n",
       "      <td>Iranian woman jailed for fictional unpublished...</td>\n",
       "      <td>Howard Portnoy</td>\n",
       "      <td>Print \\nAn Iranian woman has been sentenced to...</td>\n",
       "      <td>1</td>\n",
       "    </tr>\n",
       "  </tbody>\n",
       "</table>\n",
       "</div>"
      ],
      "text/plain": [
       "   id                                              title              author  \\\n",
       "0   0  House Dem Aide: We Didn’t Even See Comey’s Let...       Darrell Lucus   \n",
       "1   1  FLYNN: Hillary Clinton, Big Woman on Campus - ...     Daniel J. Flynn   \n",
       "2   2                  Why the Truth Might Get You Fired  Consortiumnews.com   \n",
       "3   3  15 Civilians Killed In Single US Airstrike Hav...     Jessica Purkiss   \n",
       "4   4  Iranian woman jailed for fictional unpublished...      Howard Portnoy   \n",
       "\n",
       "                                                text  label  \n",
       "0  House Dem Aide: We Didn’t Even See Comey’s Let...      1  \n",
       "1  Ever get the feeling your life circles the rou...      0  \n",
       "2  Why the Truth Might Get You Fired October 29, ...      1  \n",
       "3  Videos 15 Civilians Killed In Single US Airstr...      1  \n",
       "4  Print \\nAn Iranian woman has been sentenced to...      1  "
      ]
     },
     "execution_count": 5,
     "metadata": {},
     "output_type": "execute_result"
    }
   ],
   "source": [
    "# Print a few rows to see the dataframe\n",
    "train.head()"
   ]
  },
  {
   "cell_type": "markdown",
   "metadata": {},
   "source": [
    "## 1. Check null values and deal with them if any"
   ]
  },
  {
   "cell_type": "code",
   "execution_count": 6,
   "metadata": {},
   "outputs": [],
   "source": [
    "# Store the number of null values in each column (sorting in descending order) into null_count\n",
    "null_count = train.isnull().sum().sort_values(ascending=False)"
   ]
  },
  {
   "cell_type": "code",
   "execution_count": 7,
   "metadata": {},
   "outputs": [
    {
     "data": {
      "text/html": [
       "<div>\n",
       "<style scoped>\n",
       "    .dataframe tbody tr th:only-of-type {\n",
       "        vertical-align: middle;\n",
       "    }\n",
       "\n",
       "    .dataframe tbody tr th {\n",
       "        vertical-align: top;\n",
       "    }\n",
       "\n",
       "    .dataframe thead th {\n",
       "        text-align: right;\n",
       "    }\n",
       "</style>\n",
       "<table border=\"1\" class=\"dataframe\">\n",
       "  <thead>\n",
       "    <tr style=\"text-align: right;\">\n",
       "      <th></th>\n",
       "      <th>Total null values</th>\n",
       "      <th>Percentage of null values</th>\n",
       "    </tr>\n",
       "  </thead>\n",
       "  <tbody>\n",
       "    <tr>\n",
       "      <th>author</th>\n",
       "      <td>1957</td>\n",
       "      <td>9.408654</td>\n",
       "    </tr>\n",
       "    <tr>\n",
       "      <th>title</th>\n",
       "      <td>558</td>\n",
       "      <td>2.682692</td>\n",
       "    </tr>\n",
       "    <tr>\n",
       "      <th>text</th>\n",
       "      <td>39</td>\n",
       "      <td>0.187500</td>\n",
       "    </tr>\n",
       "    <tr>\n",
       "      <th>id</th>\n",
       "      <td>0</td>\n",
       "      <td>0.000000</td>\n",
       "    </tr>\n",
       "    <tr>\n",
       "      <th>label</th>\n",
       "      <td>0</td>\n",
       "      <td>0.000000</td>\n",
       "    </tr>\n",
       "  </tbody>\n",
       "</table>\n",
       "</div>"
      ],
      "text/plain": [
       "        Total null values  Percentage of null values\n",
       "author               1957                   9.408654\n",
       "title                 558                   2.682692\n",
       "text                   39                   0.187500\n",
       "id                      0                   0.000000\n",
       "label                   0                   0.000000"
      ]
     },
     "execution_count": 7,
     "metadata": {},
     "output_type": "execute_result"
    }
   ],
   "source": [
    "# Calculate null values in terms of percentage\n",
    "null_count_percent = null_count/(len(train)) * 100\n",
    "\n",
    "# Create a dataframe as 'null_df'\n",
    "null_df = pd.concat([null_count,null_count_percent], axis = 1, keys =['Total null values', 'Percentage of null values'])\n",
    "\n",
    "# Print the dataframe\n",
    "null_df"
   ]
  },
  {
   "cell_type": "markdown",
   "metadata": {},
   "source": [
    "### Null Values in text column"
   ]
  },
  {
   "cell_type": "markdown",
   "metadata": {},
   "source": [
    "#### There are 39 empty entries in text column"
   ]
  },
  {
   "cell_type": "code",
   "execution_count": 8,
   "metadata": {},
   "outputs": [],
   "source": [
    "# Store the missing entries into text_missing\n",
    "text_missing = train['text'].isnull()"
   ]
  },
  {
   "cell_type": "code",
   "execution_count": 9,
   "metadata": {},
   "outputs": [],
   "source": [
    "# Declare a new df\n",
    "text_missing_df = pd.DataFrame()\n",
    "\n",
    "# If the text is missing, store the info into the new df\n",
    "for i in range (0,len(text_missing)):\n",
    "    if text_missing[i] == True:\n",
    "        text_missing_df.loc[i,'id'] = train.loc[i,'id']\n",
    "        text_missing_df.loc[i,'title'] = train.loc[i,'title']\n",
    "        text_missing_df.loc[i,'text'] = train.loc[i,'text']\n",
    "        text_missing_df.loc[i,'label'] = train.loc[i,'label']"
   ]
  },
  {
   "cell_type": "code",
   "execution_count": 10,
   "metadata": {},
   "outputs": [
    {
     "data": {
      "text/html": [
       "<div>\n",
       "<style scoped>\n",
       "    .dataframe tbody tr th:only-of-type {\n",
       "        vertical-align: middle;\n",
       "    }\n",
       "\n",
       "    .dataframe tbody tr th {\n",
       "        vertical-align: top;\n",
       "    }\n",
       "\n",
       "    .dataframe thead th {\n",
       "        text-align: right;\n",
       "    }\n",
       "</style>\n",
       "<table border=\"1\" class=\"dataframe\">\n",
       "  <thead>\n",
       "    <tr style=\"text-align: right;\">\n",
       "      <th></th>\n",
       "      <th>id</th>\n",
       "      <th>title</th>\n",
       "      <th>text</th>\n",
       "      <th>label</th>\n",
       "    </tr>\n",
       "  </thead>\n",
       "  <tbody>\n",
       "    <tr>\n",
       "      <th>142</th>\n",
       "      <td>142.0</td>\n",
       "      <td>Gorafi Magazine : Entretien exclusif avec Bara...</td>\n",
       "      <td>NaN</td>\n",
       "      <td>1.0</td>\n",
       "    </tr>\n",
       "    <tr>\n",
       "      <th>573</th>\n",
       "      <td>573.0</td>\n",
       "      <td>Le top des recherches Google passe en top des ...</td>\n",
       "      <td>NaN</td>\n",
       "      <td>1.0</td>\n",
       "    </tr>\n",
       "    <tr>\n",
       "      <th>1200</th>\n",
       "      <td>1200.0</td>\n",
       "      <td>La Corée du Nord annonce avoir envoyé un missi...</td>\n",
       "      <td>NaN</td>\n",
       "      <td>1.0</td>\n",
       "    </tr>\n",
       "    <tr>\n",
       "      <th>1911</th>\n",
       "      <td>1911.0</td>\n",
       "      <td>Grand-Prix du Brésil – Romain Grosjean obtient...</td>\n",
       "      <td>NaN</td>\n",
       "      <td>1.0</td>\n",
       "    </tr>\n",
       "    <tr>\n",
       "      <th>2148</th>\n",
       "      <td>2148.0</td>\n",
       "      <td>Gorafi Magazine: Barack Obama « Je vous ai déj...</td>\n",
       "      <td>NaN</td>\n",
       "      <td>1.0</td>\n",
       "    </tr>\n",
       "    <tr>\n",
       "      <th>2169</th>\n",
       "      <td>2169.0</td>\n",
       "      <td>#NDDL: Pour fêter l’autorisation des travaux, ...</td>\n",
       "      <td>NaN</td>\n",
       "      <td>1.0</td>\n",
       "    </tr>\n",
       "    <tr>\n",
       "      <th>2793</th>\n",
       "      <td>2793.0</td>\n",
       "      <td>«Pourquoi je suis candidat à la présidentielle...</td>\n",
       "      <td>NaN</td>\n",
       "      <td>1.0</td>\n",
       "    </tr>\n",
       "    <tr>\n",
       "      <th>3329</th>\n",
       "      <td>3329.0</td>\n",
       "      <td>GuinessBook : 100 millions d’Américains batten...</td>\n",
       "      <td>NaN</td>\n",
       "      <td>1.0</td>\n",
       "    </tr>\n",
       "    <tr>\n",
       "      <th>3729</th>\n",
       "      <td>3729.0</td>\n",
       "      <td>Les Américains ne sont plus qu’à quelques heur...</td>\n",
       "      <td>NaN</td>\n",
       "      <td>1.0</td>\n",
       "    </tr>\n",
       "    <tr>\n",
       "      <th>4288</th>\n",
       "      <td>4288.0</td>\n",
       "      <td>Hillary Clinton en 5 dates &gt;&gt; Le Gorafi</td>\n",
       "      <td>NaN</td>\n",
       "      <td>1.0</td>\n",
       "    </tr>\n",
       "    <tr>\n",
       "      <th>4358</th>\n",
       "      <td>4358.0</td>\n",
       "      <td>Ne supportant plus l’ambiance de la campagne é...</td>\n",
       "      <td>NaN</td>\n",
       "      <td>1.0</td>\n",
       "    </tr>\n",
       "    <tr>\n",
       "      <th>5717</th>\n",
       "      <td>5717.0</td>\n",
       "      <td>SPA : Enfermé depuis trois jours dans une cage...</td>\n",
       "      <td>NaN</td>\n",
       "      <td>1.0</td>\n",
       "    </tr>\n",
       "    <tr>\n",
       "      <th>6215</th>\n",
       "      <td>6215.0</td>\n",
       "      <td>New-York – Le lâcher de confettis prévu à Time...</td>\n",
       "      <td>NaN</td>\n",
       "      <td>1.0</td>\n",
       "    </tr>\n",
       "    <tr>\n",
       "      <th>6680</th>\n",
       "      <td>6680.0</td>\n",
       "      <td>Débat Primaire de la Droite : les Français pas...</td>\n",
       "      <td>NaN</td>\n",
       "      <td>1.0</td>\n",
       "    </tr>\n",
       "    <tr>\n",
       "      <th>8649</th>\n",
       "      <td>8649.0</td>\n",
       "      <td>Donald Trump s’excuse pour toutes les minorité...</td>\n",
       "      <td>NaN</td>\n",
       "      <td>1.0</td>\n",
       "    </tr>\n",
       "    <tr>\n",
       "      <th>8908</th>\n",
       "      <td>8908.0</td>\n",
       "      <td>“Notre batal a coulé” par l’homme qui fait des...</td>\n",
       "      <td>NaN</td>\n",
       "      <td>1.0</td>\n",
       "    </tr>\n",
       "    <tr>\n",
       "      <th>8922</th>\n",
       "      <td>8922.0</td>\n",
       "      <td>La Trump Tower cambriolée – les voleurs seraie...</td>\n",
       "      <td>NaN</td>\n",
       "      <td>1.0</td>\n",
       "    </tr>\n",
       "    <tr>\n",
       "      <th>9350</th>\n",
       "      <td>9350.0</td>\n",
       "      <td>La Russie a profité de l’élection américaine p...</td>\n",
       "      <td>NaN</td>\n",
       "      <td>1.0</td>\n",
       "    </tr>\n",
       "    <tr>\n",
       "      <th>9446</th>\n",
       "      <td>9446.0</td>\n",
       "      <td>Trop essoufflé après avoir cherché ses affaire...</td>\n",
       "      <td>NaN</td>\n",
       "      <td>1.0</td>\n",
       "    </tr>\n",
       "    <tr>\n",
       "      <th>9454</th>\n",
       "      <td>9454.0</td>\n",
       "      <td>Il saoule tout le monde avec son analyse polit...</td>\n",
       "      <td>NaN</td>\n",
       "      <td>1.0</td>\n",
       "    </tr>\n",
       "  </tbody>\n",
       "</table>\n",
       "</div>"
      ],
      "text/plain": [
       "          id                                              title  text  label\n",
       "142    142.0  Gorafi Magazine : Entretien exclusif avec Bara...   NaN    1.0\n",
       "573    573.0  Le top des recherches Google passe en top des ...   NaN    1.0\n",
       "1200  1200.0  La Corée du Nord annonce avoir envoyé un missi...   NaN    1.0\n",
       "1911  1911.0  Grand-Prix du Brésil – Romain Grosjean obtient...   NaN    1.0\n",
       "2148  2148.0  Gorafi Magazine: Barack Obama « Je vous ai déj...   NaN    1.0\n",
       "2169  2169.0  #NDDL: Pour fêter l’autorisation des travaux, ...   NaN    1.0\n",
       "2793  2793.0  «Pourquoi je suis candidat à la présidentielle...   NaN    1.0\n",
       "3329  3329.0  GuinessBook : 100 millions d’Américains batten...   NaN    1.0\n",
       "3729  3729.0  Les Américains ne sont plus qu’à quelques heur...   NaN    1.0\n",
       "4288  4288.0            Hillary Clinton en 5 dates >> Le Gorafi   NaN    1.0\n",
       "4358  4358.0  Ne supportant plus l’ambiance de la campagne é...   NaN    1.0\n",
       "5717  5717.0  SPA : Enfermé depuis trois jours dans une cage...   NaN    1.0\n",
       "6215  6215.0  New-York – Le lâcher de confettis prévu à Time...   NaN    1.0\n",
       "6680  6680.0  Débat Primaire de la Droite : les Français pas...   NaN    1.0\n",
       "8649  8649.0  Donald Trump s’excuse pour toutes les minorité...   NaN    1.0\n",
       "8908  8908.0  “Notre batal a coulé” par l’homme qui fait des...   NaN    1.0\n",
       "8922  8922.0  La Trump Tower cambriolée – les voleurs seraie...   NaN    1.0\n",
       "9350  9350.0  La Russie a profité de l’élection américaine p...   NaN    1.0\n",
       "9446  9446.0  Trop essoufflé après avoir cherché ses affaire...   NaN    1.0\n",
       "9454  9454.0  Il saoule tout le monde avec son analyse polit...   NaN    1.0"
      ]
     },
     "execution_count": 10,
     "metadata": {},
     "output_type": "execute_result"
    }
   ],
   "source": [
    "# Print 20 rows of the dataframe\n",
    "text_missing_df.head(20)"
   ]
  },
  {
   "cell_type": "markdown",
   "metadata": {},
   "source": [
    "Observe all these rows do not have values in the 'text' column, but have data in 'title' column. \n",
    "\n",
    "With the labels of all these rows are 1 indicating that they are fake news, it would be good to keep these rows.\n",
    "\n",
    "Need to replace the null values with '-'"
   ]
  },
  {
   "cell_type": "code",
   "execution_count": 11,
   "metadata": {},
   "outputs": [],
   "source": [
    "# Replace null values to '-'\n",
    "train['text'].replace(np.nan,\"-\",inplace = True)"
   ]
  },
  {
   "cell_type": "code",
   "execution_count": 12,
   "metadata": {},
   "outputs": [
    {
     "data": {
      "text/plain": [
       "0"
      ]
     },
     "execution_count": 12,
     "metadata": {},
     "output_type": "execute_result"
    }
   ],
   "source": [
    "# Check again if the text column still have missing values\n",
    "train['text'].isnull().sum()"
   ]
  },
  {
   "cell_type": "markdown",
   "metadata": {},
   "source": [
    "### Null Values in title column"
   ]
  },
  {
   "cell_type": "markdown",
   "metadata": {},
   "source": [
    "#### There are 558 empty entries in title column"
   ]
  },
  {
   "cell_type": "code",
   "execution_count": 13,
   "metadata": {},
   "outputs": [],
   "source": [
    "# Declare a new df\n",
    "title_missing_df = pd.DataFrame()\n",
    "\n",
    "# If the title is missing, store the info into the new df\n",
    "for i in range (0,len(train)):\n",
    "    if train['title'].isnull()[i] == True:\n",
    "        title_missing_df.loc[i,'id'] = train.loc[i,'id']\n",
    "        title_missing_df.loc[i,'title'] = train.loc[i,'title']\n",
    "        title_missing_df.loc[i,'text'] = train.loc[i,'text']\n",
    "        title_missing_df.loc[i,'label'] = train.loc[i,'label']"
   ]
  },
  {
   "cell_type": "code",
   "execution_count": 14,
   "metadata": {},
   "outputs": [
    {
     "data": {
      "text/html": [
       "<div>\n",
       "<style scoped>\n",
       "    .dataframe tbody tr th:only-of-type {\n",
       "        vertical-align: middle;\n",
       "    }\n",
       "\n",
       "    .dataframe tbody tr th {\n",
       "        vertical-align: top;\n",
       "    }\n",
       "\n",
       "    .dataframe thead th {\n",
       "        text-align: right;\n",
       "    }\n",
       "</style>\n",
       "<table border=\"1\" class=\"dataframe\">\n",
       "  <thead>\n",
       "    <tr style=\"text-align: right;\">\n",
       "      <th></th>\n",
       "      <th>id</th>\n",
       "      <th>title</th>\n",
       "      <th>text</th>\n",
       "      <th>label</th>\n",
       "    </tr>\n",
       "  </thead>\n",
       "  <tbody>\n",
       "    <tr>\n",
       "      <th>53</th>\n",
       "      <td>53.0</td>\n",
       "      <td>NaN</td>\n",
       "      <td>Sounds like he has our president pegged. What ...</td>\n",
       "      <td>1.0</td>\n",
       "    </tr>\n",
       "    <tr>\n",
       "      <th>120</th>\n",
       "      <td>120.0</td>\n",
       "      <td>NaN</td>\n",
       "      <td>Same people all the time , i dont know how you...</td>\n",
       "      <td>1.0</td>\n",
       "    </tr>\n",
       "    <tr>\n",
       "      <th>124</th>\n",
       "      <td>124.0</td>\n",
       "      <td>NaN</td>\n",
       "      <td>You know, outside of any morality arguments, i...</td>\n",
       "      <td>1.0</td>\n",
       "    </tr>\n",
       "    <tr>\n",
       "      <th>140</th>\n",
       "      <td>140.0</td>\n",
       "      <td>NaN</td>\n",
       "      <td>There is a lot more than meets the eye to this...</td>\n",
       "      <td>1.0</td>\n",
       "    </tr>\n",
       "    <tr>\n",
       "      <th>196</th>\n",
       "      <td>196.0</td>\n",
       "      <td>NaN</td>\n",
       "      <td>They got the heater turned up on high.</td>\n",
       "      <td>1.0</td>\n",
       "    </tr>\n",
       "    <tr>\n",
       "      <th>223</th>\n",
       "      <td>223.0</td>\n",
       "      <td>NaN</td>\n",
       "      <td>If I were one of those Guardsmen and the Spets...</td>\n",
       "      <td>1.0</td>\n",
       "    </tr>\n",
       "    <tr>\n",
       "      <th>288</th>\n",
       "      <td>288.0</td>\n",
       "      <td>NaN</td>\n",
       "      <td>The way he's doing business there seems he'll ...</td>\n",
       "      <td>1.0</td>\n",
       "    </tr>\n",
       "    <tr>\n",
       "      <th>490</th>\n",
       "      <td>490.0</td>\n",
       "      <td>NaN</td>\n",
       "      <td>If so, then Hillary and Obama will end up bein...</td>\n",
       "      <td>1.0</td>\n",
       "    </tr>\n",
       "    <tr>\n",
       "      <th>535</th>\n",
       "      <td>535.0</td>\n",
       "      <td>NaN</td>\n",
       "      <td>$4 Billion even after they are known to be kee...</td>\n",
       "      <td>1.0</td>\n",
       "    </tr>\n",
       "    <tr>\n",
       "      <th>541</th>\n",
       "      <td>541.0</td>\n",
       "      <td>NaN</td>\n",
       "      <td>When the people fear their government there’s ...</td>\n",
       "      <td>1.0</td>\n",
       "    </tr>\n",
       "    <tr>\n",
       "      <th>555</th>\n",
       "      <td>555.0</td>\n",
       "      <td>NaN</td>\n",
       "      <td>These SCUMBAGS want to try and CLAIM the e-mai...</td>\n",
       "      <td>1.0</td>\n",
       "    </tr>\n",
       "    <tr>\n",
       "      <th>562</th>\n",
       "      <td>562.0</td>\n",
       "      <td>NaN</td>\n",
       "      <td>Field is correct about the 8a companies and Tr...</td>\n",
       "      <td>1.0</td>\n",
       "    </tr>\n",
       "    <tr>\n",
       "      <th>567</th>\n",
       "      <td>567.0</td>\n",
       "      <td>NaN</td>\n",
       "      <td>GUYS THE PURGE WONT HAPPEN ITS A MOVIE ITS FAK...</td>\n",
       "      <td>1.0</td>\n",
       "    </tr>\n",
       "    <tr>\n",
       "      <th>580</th>\n",
       "      <td>580.0</td>\n",
       "      <td>NaN</td>\n",
       "      <td>Ludicrous...</td>\n",
       "      <td>1.0</td>\n",
       "    </tr>\n",
       "    <tr>\n",
       "      <th>683</th>\n",
       "      <td>683.0</td>\n",
       "      <td>NaN</td>\n",
       "      <td>The Walking Dead is a degenerate piece of Jewi...</td>\n",
       "      <td>1.0</td>\n",
       "    </tr>\n",
       "    <tr>\n",
       "      <th>704</th>\n",
       "      <td>704.0</td>\n",
       "      <td>NaN</td>\n",
       "      <td>330 American soldiers are causing the Russians...</td>\n",
       "      <td>1.0</td>\n",
       "    </tr>\n",
       "    <tr>\n",
       "      <th>725</th>\n",
       "      <td>725.0</td>\n",
       "      <td>NaN</td>\n",
       "      <td>And cops wonder why they get no respect. Stupi...</td>\n",
       "      <td>1.0</td>\n",
       "    </tr>\n",
       "    <tr>\n",
       "      <th>778</th>\n",
       "      <td>778.0</td>\n",
       "      <td>NaN</td>\n",
       "      <td>Before you start complaining about the Philipp...</td>\n",
       "      <td>1.0</td>\n",
       "    </tr>\n",
       "    <tr>\n",
       "      <th>780</th>\n",
       "      <td>780.0</td>\n",
       "      <td>NaN</td>\n",
       "      <td>Brother Hodges,\\nThere is no need to have othe...</td>\n",
       "      <td>1.0</td>\n",
       "    </tr>\n",
       "    <tr>\n",
       "      <th>786</th>\n",
       "      <td>786.0</td>\n",
       "      <td>NaN</td>\n",
       "      <td>f</td>\n",
       "      <td>1.0</td>\n",
       "    </tr>\n",
       "  </tbody>\n",
       "</table>\n",
       "</div>"
      ],
      "text/plain": [
       "        id  title                                               text  label\n",
       "53    53.0    NaN  Sounds like he has our president pegged. What ...    1.0\n",
       "120  120.0    NaN  Same people all the time , i dont know how you...    1.0\n",
       "124  124.0    NaN  You know, outside of any morality arguments, i...    1.0\n",
       "140  140.0    NaN  There is a lot more than meets the eye to this...    1.0\n",
       "196  196.0    NaN             They got the heater turned up on high.    1.0\n",
       "223  223.0    NaN  If I were one of those Guardsmen and the Spets...    1.0\n",
       "288  288.0    NaN  The way he's doing business there seems he'll ...    1.0\n",
       "490  490.0    NaN  If so, then Hillary and Obama will end up bein...    1.0\n",
       "535  535.0    NaN  $4 Billion even after they are known to be kee...    1.0\n",
       "541  541.0    NaN  When the people fear their government there’s ...    1.0\n",
       "555  555.0    NaN  These SCUMBAGS want to try and CLAIM the e-mai...    1.0\n",
       "562  562.0    NaN  Field is correct about the 8a companies and Tr...    1.0\n",
       "567  567.0    NaN  GUYS THE PURGE WONT HAPPEN ITS A MOVIE ITS FAK...    1.0\n",
       "580  580.0    NaN                                       Ludicrous...    1.0\n",
       "683  683.0    NaN  The Walking Dead is a degenerate piece of Jewi...    1.0\n",
       "704  704.0    NaN  330 American soldiers are causing the Russians...    1.0\n",
       "725  725.0    NaN  And cops wonder why they get no respect. Stupi...    1.0\n",
       "778  778.0    NaN  Before you start complaining about the Philipp...    1.0\n",
       "780  780.0    NaN  Brother Hodges,\\nThere is no need to have othe...    1.0\n",
       "786  786.0    NaN                                                  f    1.0"
      ]
     },
     "execution_count": 14,
     "metadata": {},
     "output_type": "execute_result"
    }
   ],
   "source": [
    "# Print some rows of the dataframe\n",
    "title_missing_df.head(20)"
   ]
  },
  {
   "cell_type": "markdown",
   "metadata": {},
   "source": [
    "Observe that most rows are labelled as fake news."
   ]
  },
  {
   "cell_type": "code",
   "execution_count": 15,
   "metadata": {},
   "outputs": [
    {
     "data": {
      "text/plain": [
       "558.0"
      ]
     },
     "execution_count": 15,
     "metadata": {},
     "output_type": "execute_result"
    }
   ],
   "source": [
    "# Check on how many entries is it labelled as fake news\n",
    "title_missing_df['label'].sum()"
   ]
  },
  {
   "cell_type": "markdown",
   "metadata": {},
   "source": [
    "As all 558 entries are labelled as fake news, it would be good to keep these rows.\n",
    "\n",
    "Need to replace the null value with '-'"
   ]
  },
  {
   "cell_type": "code",
   "execution_count": 16,
   "metadata": {},
   "outputs": [],
   "source": [
    "# Replace null values to '-'\n",
    "train['title'].replace(np.nan,\"-\",inplace = True)"
   ]
  },
  {
   "cell_type": "code",
   "execution_count": 17,
   "metadata": {},
   "outputs": [
    {
     "data": {
      "text/plain": [
       "0"
      ]
     },
     "execution_count": 17,
     "metadata": {},
     "output_type": "execute_result"
    }
   ],
   "source": [
    "# Check again if the title column still have missing values\n",
    "train['title'].isnull().sum()"
   ]
  },
  {
   "cell_type": "markdown",
   "metadata": {},
   "source": [
    "### Null Values in author column"
   ]
  },
  {
   "cell_type": "markdown",
   "metadata": {},
   "source": [
    "#### There are 1957 empty entries in author column"
   ]
  },
  {
   "cell_type": "code",
   "execution_count": 18,
   "metadata": {},
   "outputs": [],
   "source": [
    "# Declare a new df\n",
    "author_missing_df = pd.DataFrame()\n",
    "\n",
    "# If the author is missing, store the info into the new df\n",
    "for i in range (0,len(train)):\n",
    "    if train['author'].isnull()[i] == True:\n",
    "        author_missing_df.loc[i,'id'] = train.loc[i,'id']\n",
    "        author_missing_df.loc[i,'title'] = train.loc[i,'title']\n",
    "        author_missing_df.loc[i,'text'] = train.loc[i,'text']\n",
    "        author_missing_df.loc[i,'label'] = train.loc[i,'label']"
   ]
  },
  {
   "cell_type": "code",
   "execution_count": 19,
   "metadata": {},
   "outputs": [
    {
     "data": {
      "text/plain": [
       "1931.0"
      ]
     },
     "execution_count": 19,
     "metadata": {},
     "output_type": "execute_result"
    }
   ],
   "source": [
    "# Check on how many entries is it labelled as fake news\n",
    "author_missing_df['label'].sum()"
   ]
  },
  {
   "cell_type": "markdown",
   "metadata": {},
   "source": [
    "As 1931 out of 1957 entries are labelled as fake news, it would be good to keep these rows.\n",
    "\n",
    "Need to replace the null value with '-'"
   ]
  },
  {
   "cell_type": "code",
   "execution_count": 20,
   "metadata": {},
   "outputs": [],
   "source": [
    "# Replace null values to '-'\n",
    "train['author'].replace(np.nan,\"-\",inplace = True)"
   ]
  },
  {
   "cell_type": "code",
   "execution_count": 21,
   "metadata": {},
   "outputs": [
    {
     "data": {
      "text/plain": [
       "0"
      ]
     },
     "execution_count": 21,
     "metadata": {},
     "output_type": "execute_result"
    }
   ],
   "source": [
    "# Check again if the author column still have missing values\n",
    "train['author'].isnull().sum()"
   ]
  },
  {
   "cell_type": "markdown",
   "metadata": {},
   "source": [
    "## 2. Check Data Types"
   ]
  },
  {
   "cell_type": "code",
   "execution_count": 22,
   "metadata": {},
   "outputs": [
    {
     "name": "stdout",
     "output_type": "stream",
     "text": [
      "<class 'pandas.core.frame.DataFrame'>\n",
      "RangeIndex: 20800 entries, 0 to 20799\n",
      "Data columns (total 5 columns):\n",
      " #   Column  Non-Null Count  Dtype \n",
      "---  ------  --------------  ----- \n",
      " 0   id      20800 non-null  int64 \n",
      " 1   title   20800 non-null  object\n",
      " 2   author  20800 non-null  object\n",
      " 3   text    20800 non-null  object\n",
      " 4   label   20800 non-null  int64 \n",
      "dtypes: int64(2), object(3)\n",
      "memory usage: 812.6+ KB\n"
     ]
    }
   ],
   "source": [
    "# Check through the data types of columns\n",
    "train.info()"
   ]
  },
  {
   "cell_type": "markdown",
   "metadata": {},
   "source": [
    "All the columns are in their desired data types, no need to change."
   ]
  },
  {
   "cell_type": "markdown",
   "metadata": {},
   "source": [
    "## 3. Remove Duplicate Entries If have"
   ]
  },
  {
   "cell_type": "code",
   "execution_count": 23,
   "metadata": {},
   "outputs": [],
   "source": [
    "# Remove duplicate entries of text\n",
    "train.drop_duplicates(subset=[\"text\"], keep='last', inplace = True)"
   ]
  },
  {
   "cell_type": "code",
   "execution_count": 24,
   "metadata": {},
   "outputs": [],
   "source": [
    "# Remove duplicate entries of title\n",
    "train.drop_duplicates(subset=[\"title\"], keep='last', inplace = True)"
   ]
  },
  {
   "cell_type": "code",
   "execution_count": 25,
   "metadata": {
    "scrolled": true
   },
   "outputs": [
    {
     "data": {
      "text/plain": [
       "(19510, 5)"
      ]
     },
     "execution_count": 25,
     "metadata": {},
     "output_type": "execute_result"
    }
   ],
   "source": [
    "# Print the shape of dataframe\n",
    "train.shape\n",
    "\n",
    "# 20800-19510 = 1290 entries that are duplicates are removed."
   ]
  },
  {
   "cell_type": "markdown",
   "metadata": {},
   "source": [
    "## 4. Check contents of each column to see if any abnormality exist"
   ]
  },
  {
   "cell_type": "code",
   "execution_count": 26,
   "metadata": {},
   "outputs": [
    {
     "data": {
      "text/html": [
       "<div>\n",
       "<style scoped>\n",
       "    .dataframe tbody tr th:only-of-type {\n",
       "        vertical-align: middle;\n",
       "    }\n",
       "\n",
       "    .dataframe tbody tr th {\n",
       "        vertical-align: top;\n",
       "    }\n",
       "\n",
       "    .dataframe thead th {\n",
       "        text-align: right;\n",
       "    }\n",
       "</style>\n",
       "<table border=\"1\" class=\"dataframe\">\n",
       "  <thead>\n",
       "    <tr style=\"text-align: right;\">\n",
       "      <th></th>\n",
       "      <th>id</th>\n",
       "      <th>title</th>\n",
       "      <th>author</th>\n",
       "      <th>text</th>\n",
       "      <th>label</th>\n",
       "    </tr>\n",
       "  </thead>\n",
       "  <tbody>\n",
       "    <tr>\n",
       "      <th>0</th>\n",
       "      <td>0</td>\n",
       "      <td>House Dem Aide: We Didn’t Even See Comey’s Let...</td>\n",
       "      <td>Darrell Lucus</td>\n",
       "      <td>House Dem Aide: We Didn’t Even See Comey’s Let...</td>\n",
       "      <td>1</td>\n",
       "    </tr>\n",
       "    <tr>\n",
       "      <th>1</th>\n",
       "      <td>1</td>\n",
       "      <td>FLYNN: Hillary Clinton, Big Woman on Campus - ...</td>\n",
       "      <td>Daniel J. Flynn</td>\n",
       "      <td>Ever get the feeling your life circles the rou...</td>\n",
       "      <td>0</td>\n",
       "    </tr>\n",
       "    <tr>\n",
       "      <th>2</th>\n",
       "      <td>2</td>\n",
       "      <td>Why the Truth Might Get You Fired</td>\n",
       "      <td>Consortiumnews.com</td>\n",
       "      <td>Why the Truth Might Get You Fired October 29, ...</td>\n",
       "      <td>1</td>\n",
       "    </tr>\n",
       "    <tr>\n",
       "      <th>3</th>\n",
       "      <td>3</td>\n",
       "      <td>15 Civilians Killed In Single US Airstrike Hav...</td>\n",
       "      <td>Jessica Purkiss</td>\n",
       "      <td>Videos 15 Civilians Killed In Single US Airstr...</td>\n",
       "      <td>1</td>\n",
       "    </tr>\n",
       "    <tr>\n",
       "      <th>4</th>\n",
       "      <td>4</td>\n",
       "      <td>Iranian woman jailed for fictional unpublished...</td>\n",
       "      <td>Howard Portnoy</td>\n",
       "      <td>Print \\nAn Iranian woman has been sentenced to...</td>\n",
       "      <td>1</td>\n",
       "    </tr>\n",
       "    <tr>\n",
       "      <th>5</th>\n",
       "      <td>5</td>\n",
       "      <td>Jackie Mason: Hollywood Would Love Trump if He...</td>\n",
       "      <td>Daniel Nussbaum</td>\n",
       "      <td>In these trying times, Jackie Mason is the Voi...</td>\n",
       "      <td>0</td>\n",
       "    </tr>\n",
       "    <tr>\n",
       "      <th>6</th>\n",
       "      <td>6</td>\n",
       "      <td>Life: Life Of Luxury: Elton John’s 6 Favorite ...</td>\n",
       "      <td>-</td>\n",
       "      <td>Ever wonder how Britain’s most iconic pop pian...</td>\n",
       "      <td>1</td>\n",
       "    </tr>\n",
       "    <tr>\n",
       "      <th>7</th>\n",
       "      <td>7</td>\n",
       "      <td>Benoît Hamon Wins French Socialist Party’s Pre...</td>\n",
       "      <td>Alissa J. Rubin</td>\n",
       "      <td>PARIS  —   France chose an idealistic, traditi...</td>\n",
       "      <td>0</td>\n",
       "    </tr>\n",
       "    <tr>\n",
       "      <th>8</th>\n",
       "      <td>8</td>\n",
       "      <td>Excerpts From a Draft Script for Donald Trump’...</td>\n",
       "      <td>-</td>\n",
       "      <td>Donald J. Trump is scheduled to make a highly ...</td>\n",
       "      <td>0</td>\n",
       "    </tr>\n",
       "    <tr>\n",
       "      <th>9</th>\n",
       "      <td>9</td>\n",
       "      <td>A Back-Channel Plan for Ukraine and Russia, Co...</td>\n",
       "      <td>Megan Twohey and Scott Shane</td>\n",
       "      <td>A week before Michael T. Flynn resigned as nat...</td>\n",
       "      <td>0</td>\n",
       "    </tr>\n",
       "    <tr>\n",
       "      <th>10</th>\n",
       "      <td>10</td>\n",
       "      <td>Obama’s Organizing for Action Partners with So...</td>\n",
       "      <td>Aaron Klein</td>\n",
       "      <td>Organizing for Action, the activist group that...</td>\n",
       "      <td>0</td>\n",
       "    </tr>\n",
       "    <tr>\n",
       "      <th>11</th>\n",
       "      <td>11</td>\n",
       "      <td>BBC Comedy Sketch \"Real Housewives of ISIS\" Ca...</td>\n",
       "      <td>Chris Tomlinson</td>\n",
       "      <td>The BBC produced spoof on the “Real Housewives...</td>\n",
       "      <td>0</td>\n",
       "    </tr>\n",
       "    <tr>\n",
       "      <th>12</th>\n",
       "      <td>12</td>\n",
       "      <td>Russian Researchers Discover Secret Nazi Milit...</td>\n",
       "      <td>Amando Flavio</td>\n",
       "      <td>The mystery surrounding The Third Reich and Na...</td>\n",
       "      <td>1</td>\n",
       "    </tr>\n",
       "    <tr>\n",
       "      <th>13</th>\n",
       "      <td>13</td>\n",
       "      <td>US Officials See No Link Between Trump and Russia</td>\n",
       "      <td>Jason Ditz</td>\n",
       "      <td>Clinton Campaign Demands FBI Affirm Trump's Ru...</td>\n",
       "      <td>1</td>\n",
       "    </tr>\n",
       "    <tr>\n",
       "      <th>14</th>\n",
       "      <td>14</td>\n",
       "      <td>Re: Yes, There Are Paid Government Trolls On S...</td>\n",
       "      <td>AnotherAnnie</td>\n",
       "      <td>Yes, There Are Paid Government Trolls On Socia...</td>\n",
       "      <td>1</td>\n",
       "    </tr>\n",
       "    <tr>\n",
       "      <th>15</th>\n",
       "      <td>15</td>\n",
       "      <td>In Major League Soccer, Argentines Find a Home...</td>\n",
       "      <td>Jack Williams</td>\n",
       "      <td>Guillermo Barros Schelotto was not the first A...</td>\n",
       "      <td>0</td>\n",
       "    </tr>\n",
       "    <tr>\n",
       "      <th>16</th>\n",
       "      <td>16</td>\n",
       "      <td>Wells Fargo Chief Abruptly Steps Down - The Ne...</td>\n",
       "      <td>Michael Corkery and Stacy Cowley</td>\n",
       "      <td>The scandal engulfing Wells Fargo toppled its ...</td>\n",
       "      <td>0</td>\n",
       "    </tr>\n",
       "    <tr>\n",
       "      <th>17</th>\n",
       "      <td>17</td>\n",
       "      <td>Anonymous Donor Pays $2.5 Million To Release E...</td>\n",
       "      <td>Starkman</td>\n",
       "      <td>A Caddo Nation tribal leader has just been fre...</td>\n",
       "      <td>1</td>\n",
       "    </tr>\n",
       "    <tr>\n",
       "      <th>18</th>\n",
       "      <td>18</td>\n",
       "      <td>FBI Closes In On Hillary!</td>\n",
       "      <td>The Doc</td>\n",
       "      <td>FBI Closes In On Hillary! Posted on Home » Hea...</td>\n",
       "      <td>1</td>\n",
       "    </tr>\n",
       "    <tr>\n",
       "      <th>19</th>\n",
       "      <td>19</td>\n",
       "      <td>Chuck Todd: ’BuzzFeed Did Donald Trump a Polit...</td>\n",
       "      <td>Jeff Poor</td>\n",
       "      <td>Wednesday after   Donald Trump’s press confere...</td>\n",
       "      <td>0</td>\n",
       "    </tr>\n",
       "  </tbody>\n",
       "</table>\n",
       "</div>"
      ],
      "text/plain": [
       "    id                                              title  \\\n",
       "0    0  House Dem Aide: We Didn’t Even See Comey’s Let...   \n",
       "1    1  FLYNN: Hillary Clinton, Big Woman on Campus - ...   \n",
       "2    2                  Why the Truth Might Get You Fired   \n",
       "3    3  15 Civilians Killed In Single US Airstrike Hav...   \n",
       "4    4  Iranian woman jailed for fictional unpublished...   \n",
       "5    5  Jackie Mason: Hollywood Would Love Trump if He...   \n",
       "6    6  Life: Life Of Luxury: Elton John’s 6 Favorite ...   \n",
       "7    7  Benoît Hamon Wins French Socialist Party’s Pre...   \n",
       "8    8  Excerpts From a Draft Script for Donald Trump’...   \n",
       "9    9  A Back-Channel Plan for Ukraine and Russia, Co...   \n",
       "10  10  Obama’s Organizing for Action Partners with So...   \n",
       "11  11  BBC Comedy Sketch \"Real Housewives of ISIS\" Ca...   \n",
       "12  12  Russian Researchers Discover Secret Nazi Milit...   \n",
       "13  13  US Officials See No Link Between Trump and Russia   \n",
       "14  14  Re: Yes, There Are Paid Government Trolls On S...   \n",
       "15  15  In Major League Soccer, Argentines Find a Home...   \n",
       "16  16  Wells Fargo Chief Abruptly Steps Down - The Ne...   \n",
       "17  17  Anonymous Donor Pays $2.5 Million To Release E...   \n",
       "18  18                          FBI Closes In On Hillary!   \n",
       "19  19  Chuck Todd: ’BuzzFeed Did Donald Trump a Polit...   \n",
       "\n",
       "                              author  \\\n",
       "0                      Darrell Lucus   \n",
       "1                    Daniel J. Flynn   \n",
       "2                 Consortiumnews.com   \n",
       "3                    Jessica Purkiss   \n",
       "4                     Howard Portnoy   \n",
       "5                    Daniel Nussbaum   \n",
       "6                                  -   \n",
       "7                    Alissa J. Rubin   \n",
       "8                                  -   \n",
       "9       Megan Twohey and Scott Shane   \n",
       "10                       Aaron Klein   \n",
       "11                   Chris Tomlinson   \n",
       "12                     Amando Flavio   \n",
       "13                        Jason Ditz   \n",
       "14                      AnotherAnnie   \n",
       "15                     Jack Williams   \n",
       "16  Michael Corkery and Stacy Cowley   \n",
       "17                          Starkman   \n",
       "18                           The Doc   \n",
       "19                         Jeff Poor   \n",
       "\n",
       "                                                 text  label  \n",
       "0   House Dem Aide: We Didn’t Even See Comey’s Let...      1  \n",
       "1   Ever get the feeling your life circles the rou...      0  \n",
       "2   Why the Truth Might Get You Fired October 29, ...      1  \n",
       "3   Videos 15 Civilians Killed In Single US Airstr...      1  \n",
       "4   Print \\nAn Iranian woman has been sentenced to...      1  \n",
       "5   In these trying times, Jackie Mason is the Voi...      0  \n",
       "6   Ever wonder how Britain’s most iconic pop pian...      1  \n",
       "7   PARIS  —   France chose an idealistic, traditi...      0  \n",
       "8   Donald J. Trump is scheduled to make a highly ...      0  \n",
       "9   A week before Michael T. Flynn resigned as nat...      0  \n",
       "10  Organizing for Action, the activist group that...      0  \n",
       "11  The BBC produced spoof on the “Real Housewives...      0  \n",
       "12  The mystery surrounding The Third Reich and Na...      1  \n",
       "13  Clinton Campaign Demands FBI Affirm Trump's Ru...      1  \n",
       "14  Yes, There Are Paid Government Trolls On Socia...      1  \n",
       "15  Guillermo Barros Schelotto was not the first A...      0  \n",
       "16  The scandal engulfing Wells Fargo toppled its ...      0  \n",
       "17  A Caddo Nation tribal leader has just been fre...      1  \n",
       "18  FBI Closes In On Hillary! Posted on Home » Hea...      1  \n",
       "19  Wednesday after   Donald Trump’s press confere...      0  "
      ]
     },
     "execution_count": 26,
     "metadata": {},
     "output_type": "execute_result"
    }
   ],
   "source": [
    "# Print a few rows to see the dataframe\n",
    "train.head(20)"
   ]
  },
  {
   "cell_type": "markdown",
   "metadata": {},
   "source": [
    "Nothing seems abnormal."
   ]
  },
  {
   "cell_type": "markdown",
   "metadata": {},
   "source": [
    "## 5. Save train dataset"
   ]
  },
  {
   "cell_type": "code",
   "execution_count": 27,
   "metadata": {},
   "outputs": [],
   "source": [
    "# Save dataset to csv as a modified dataset\n",
    "train.to_csv('../datasets/train_modified.csv', index = False)"
   ]
  },
  {
   "cell_type": "markdown",
   "metadata": {},
   "source": [
    "# Data Cleaning of Test Dataset"
   ]
  },
  {
   "cell_type": "code",
   "execution_count": 28,
   "metadata": {},
   "outputs": [
    {
     "data": {
      "text/plain": [
       "(5200, 4)"
      ]
     },
     "execution_count": 28,
     "metadata": {},
     "output_type": "execute_result"
    }
   ],
   "source": [
    "# Print the shape of dataframe\n",
    "test.shape\n",
    "\n",
    "# There are 5200 rows and 4 columns"
   ]
  },
  {
   "cell_type": "code",
   "execution_count": 29,
   "metadata": {},
   "outputs": [
    {
     "data": {
      "text/html": [
       "<div>\n",
       "<style scoped>\n",
       "    .dataframe tbody tr th:only-of-type {\n",
       "        vertical-align: middle;\n",
       "    }\n",
       "\n",
       "    .dataframe tbody tr th {\n",
       "        vertical-align: top;\n",
       "    }\n",
       "\n",
       "    .dataframe thead th {\n",
       "        text-align: right;\n",
       "    }\n",
       "</style>\n",
       "<table border=\"1\" class=\"dataframe\">\n",
       "  <thead>\n",
       "    <tr style=\"text-align: right;\">\n",
       "      <th></th>\n",
       "      <th>id</th>\n",
       "      <th>title</th>\n",
       "      <th>author</th>\n",
       "      <th>text</th>\n",
       "    </tr>\n",
       "  </thead>\n",
       "  <tbody>\n",
       "    <tr>\n",
       "      <th>0</th>\n",
       "      <td>20800</td>\n",
       "      <td>Specter of Trump Loosens Tongues, if Not Purse...</td>\n",
       "      <td>David Streitfeld</td>\n",
       "      <td>PALO ALTO, Calif.  —   After years of scorning...</td>\n",
       "    </tr>\n",
       "    <tr>\n",
       "      <th>1</th>\n",
       "      <td>20801</td>\n",
       "      <td>Russian warships ready to strike terrorists ne...</td>\n",
       "      <td>NaN</td>\n",
       "      <td>Russian warships ready to strike terrorists ne...</td>\n",
       "    </tr>\n",
       "    <tr>\n",
       "      <th>2</th>\n",
       "      <td>20802</td>\n",
       "      <td>#NoDAPL: Native American Leaders Vow to Stay A...</td>\n",
       "      <td>Common Dreams</td>\n",
       "      <td>Videos #NoDAPL: Native American Leaders Vow to...</td>\n",
       "    </tr>\n",
       "    <tr>\n",
       "      <th>3</th>\n",
       "      <td>20803</td>\n",
       "      <td>Tim Tebow Will Attempt Another Comeback, This ...</td>\n",
       "      <td>Daniel Victor</td>\n",
       "      <td>If at first you don’t succeed, try a different...</td>\n",
       "    </tr>\n",
       "    <tr>\n",
       "      <th>4</th>\n",
       "      <td>20804</td>\n",
       "      <td>Keiser Report: Meme Wars (E995)</td>\n",
       "      <td>Truth Broadcast Network</td>\n",
       "      <td>42 mins ago 1 Views 0 Comments 0 Likes 'For th...</td>\n",
       "    </tr>\n",
       "  </tbody>\n",
       "</table>\n",
       "</div>"
      ],
      "text/plain": [
       "      id                                              title  \\\n",
       "0  20800  Specter of Trump Loosens Tongues, if Not Purse...   \n",
       "1  20801  Russian warships ready to strike terrorists ne...   \n",
       "2  20802  #NoDAPL: Native American Leaders Vow to Stay A...   \n",
       "3  20803  Tim Tebow Will Attempt Another Comeback, This ...   \n",
       "4  20804                    Keiser Report: Meme Wars (E995)   \n",
       "\n",
       "                    author                                               text  \n",
       "0         David Streitfeld  PALO ALTO, Calif.  —   After years of scorning...  \n",
       "1                      NaN  Russian warships ready to strike terrorists ne...  \n",
       "2            Common Dreams  Videos #NoDAPL: Native American Leaders Vow to...  \n",
       "3            Daniel Victor  If at first you don’t succeed, try a different...  \n",
       "4  Truth Broadcast Network  42 mins ago 1 Views 0 Comments 0 Likes 'For th...  "
      ]
     },
     "execution_count": 29,
     "metadata": {},
     "output_type": "execute_result"
    }
   ],
   "source": [
    "# Print a few rows to see the dataframe\n",
    "test.head()"
   ]
  },
  {
   "cell_type": "markdown",
   "metadata": {},
   "source": [
    "## 1. Check null values and deal with them if any"
   ]
  },
  {
   "cell_type": "code",
   "execution_count": 30,
   "metadata": {},
   "outputs": [],
   "source": [
    "# Store the number of null values in each column (sorting in descending order) into null_count\n",
    "null_count = test.isnull().sum().sort_values(ascending=False)"
   ]
  },
  {
   "cell_type": "code",
   "execution_count": 31,
   "metadata": {},
   "outputs": [],
   "source": [
    "# Calculate null values in terms of percentage\n",
    "null_count_percent = null_count/(len(test)) * 100\n",
    "\n",
    "# Create a dataframe as 'null_df'\n",
    "null_df = pd.concat([null_count,null_count_percent], axis = 1, keys =['Total null values', 'Percentage of null values'])"
   ]
  },
  {
   "cell_type": "code",
   "execution_count": 32,
   "metadata": {},
   "outputs": [
    {
     "data": {
      "text/html": [
       "<div>\n",
       "<style scoped>\n",
       "    .dataframe tbody tr th:only-of-type {\n",
       "        vertical-align: middle;\n",
       "    }\n",
       "\n",
       "    .dataframe tbody tr th {\n",
       "        vertical-align: top;\n",
       "    }\n",
       "\n",
       "    .dataframe thead th {\n",
       "        text-align: right;\n",
       "    }\n",
       "</style>\n",
       "<table border=\"1\" class=\"dataframe\">\n",
       "  <thead>\n",
       "    <tr style=\"text-align: right;\">\n",
       "      <th></th>\n",
       "      <th>Total null values</th>\n",
       "      <th>Percentage of null values</th>\n",
       "    </tr>\n",
       "  </thead>\n",
       "  <tbody>\n",
       "    <tr>\n",
       "      <th>author</th>\n",
       "      <td>503</td>\n",
       "      <td>9.673077</td>\n",
       "    </tr>\n",
       "    <tr>\n",
       "      <th>title</th>\n",
       "      <td>122</td>\n",
       "      <td>2.346154</td>\n",
       "    </tr>\n",
       "    <tr>\n",
       "      <th>text</th>\n",
       "      <td>7</td>\n",
       "      <td>0.134615</td>\n",
       "    </tr>\n",
       "    <tr>\n",
       "      <th>id</th>\n",
       "      <td>0</td>\n",
       "      <td>0.000000</td>\n",
       "    </tr>\n",
       "  </tbody>\n",
       "</table>\n",
       "</div>"
      ],
      "text/plain": [
       "        Total null values  Percentage of null values\n",
       "author                503                   9.673077\n",
       "title                 122                   2.346154\n",
       "text                    7                   0.134615\n",
       "id                      0                   0.000000"
      ]
     },
     "execution_count": 32,
     "metadata": {},
     "output_type": "execute_result"
    }
   ],
   "source": [
    "# Print the dataframe\n",
    "null_df"
   ]
  },
  {
   "cell_type": "markdown",
   "metadata": {},
   "source": [
    "### Null Values in text column"
   ]
  },
  {
   "cell_type": "markdown",
   "metadata": {},
   "source": [
    "#### There are 7 empty entries in test column"
   ]
  },
  {
   "cell_type": "code",
   "execution_count": 33,
   "metadata": {},
   "outputs": [],
   "source": [
    "# Declare a new df\n",
    "text_missing_df = pd.DataFrame()\n",
    "\n",
    "# If the text is missing, store the info into the new df\n",
    "for i in range (0,len(test)):\n",
    "    if test['text'].isnull()[i] == True:\n",
    "        text_missing_df.loc[i,'id'] = test.loc[i,'id']\n",
    "        text_missing_df.loc[i,'title'] = test.loc[i,'title']\n",
    "        text_missing_df.loc[i,'text'] = test.loc[i,'text']"
   ]
  },
  {
   "cell_type": "code",
   "execution_count": 34,
   "metadata": {},
   "outputs": [
    {
     "data": {
      "text/html": [
       "<div>\n",
       "<style scoped>\n",
       "    .dataframe tbody tr th:only-of-type {\n",
       "        vertical-align: middle;\n",
       "    }\n",
       "\n",
       "    .dataframe tbody tr th {\n",
       "        vertical-align: top;\n",
       "    }\n",
       "\n",
       "    .dataframe thead th {\n",
       "        text-align: right;\n",
       "    }\n",
       "</style>\n",
       "<table border=\"1\" class=\"dataframe\">\n",
       "  <thead>\n",
       "    <tr style=\"text-align: right;\">\n",
       "      <th></th>\n",
       "      <th>id</th>\n",
       "      <th>title</th>\n",
       "      <th>text</th>\n",
       "    </tr>\n",
       "  </thead>\n",
       "  <tbody>\n",
       "    <tr>\n",
       "      <th>589</th>\n",
       "      <td>21389.0</td>\n",
       "      <td>[Vidéo] Que trouve-t-on dans « Le Gorafi de l’...</td>\n",
       "      <td>NaN</td>\n",
       "    </tr>\n",
       "    <tr>\n",
       "      <th>626</th>\n",
       "      <td>21426.0</td>\n",
       "      <td>Nous avons comparé les programmes d’Alain Jupp...</td>\n",
       "      <td>NaN</td>\n",
       "    </tr>\n",
       "    <tr>\n",
       "      <th>978</th>\n",
       "      <td>21778.0</td>\n",
       "      <td>« J’y crois encore ! » par Alain Juppé en trai...</td>\n",
       "      <td>NaN</td>\n",
       "    </tr>\n",
       "    <tr>\n",
       "      <th>2257</th>\n",
       "      <td>23057.0</td>\n",
       "      <td>Horoscope du 14 novembre 2016 &gt;&gt; Le Gorafi</td>\n",
       "      <td>NaN</td>\n",
       "    </tr>\n",
       "    <tr>\n",
       "      <th>2892</th>\n",
       "      <td>23692.0</td>\n",
       "      <td>Une fan demande le remboursement de son tatoua...</td>\n",
       "      <td>NaN</td>\n",
       "    </tr>\n",
       "    <tr>\n",
       "      <th>4736</th>\n",
       "      <td>25536.0</td>\n",
       "      <td>Révélations – François Fillon serait de droite...</td>\n",
       "      <td>NaN</td>\n",
       "    </tr>\n",
       "    <tr>\n",
       "      <th>5092</th>\n",
       "      <td>25892.0</td>\n",
       "      <td>Des traces de vin rouge détectées dans le Beau...</td>\n",
       "      <td>NaN</td>\n",
       "    </tr>\n",
       "  </tbody>\n",
       "</table>\n",
       "</div>"
      ],
      "text/plain": [
       "           id                                              title  text\n",
       "589   21389.0  [Vidéo] Que trouve-t-on dans « Le Gorafi de l’...   NaN\n",
       "626   21426.0  Nous avons comparé les programmes d’Alain Jupp...   NaN\n",
       "978   21778.0  « J’y crois encore ! » par Alain Juppé en trai...   NaN\n",
       "2257  23057.0         Horoscope du 14 novembre 2016 >> Le Gorafi   NaN\n",
       "2892  23692.0  Une fan demande le remboursement de son tatoua...   NaN\n",
       "4736  25536.0  Révélations – François Fillon serait de droite...   NaN\n",
       "5092  25892.0  Des traces de vin rouge détectées dans le Beau...   NaN"
      ]
     },
     "execution_count": 34,
     "metadata": {},
     "output_type": "execute_result"
    }
   ],
   "source": [
    "# Print the dataframe\n",
    "text_missing_df"
   ]
  },
  {
   "cell_type": "code",
   "execution_count": 35,
   "metadata": {},
   "outputs": [],
   "source": [
    "# Replace null values to '-'\n",
    "test['text'].replace(np.nan,\"-\",inplace = True)"
   ]
  },
  {
   "cell_type": "code",
   "execution_count": 36,
   "metadata": {},
   "outputs": [
    {
     "data": {
      "text/plain": [
       "0"
      ]
     },
     "execution_count": 36,
     "metadata": {},
     "output_type": "execute_result"
    }
   ],
   "source": [
    "# Check again if the text column still have missing values\n",
    "test['text'].isnull().sum()"
   ]
  },
  {
   "cell_type": "markdown",
   "metadata": {},
   "source": [
    "### Null Values in title column"
   ]
  },
  {
   "cell_type": "markdown",
   "metadata": {},
   "source": [
    "#### There are 122 empty entries in title column"
   ]
  },
  {
   "cell_type": "code",
   "execution_count": 37,
   "metadata": {},
   "outputs": [],
   "source": [
    "# Declare a new df\n",
    "title_missing_df = pd.DataFrame()\n",
    "\n",
    "# If the title is missing, store the info into the new df\n",
    "for i in range (0,len(test)):\n",
    "    if test['title'].isnull()[i] == True:\n",
    "        title_missing_df.loc[i,'id'] = test.loc[i,'id']\n",
    "        title_missing_df.loc[i,'title'] = test.loc[i,'title']\n",
    "        title_missing_df.loc[i,'text'] = test.loc[i,'text']"
   ]
  },
  {
   "cell_type": "code",
   "execution_count": 38,
   "metadata": {},
   "outputs": [
    {
     "data": {
      "text/html": [
       "<div>\n",
       "<style scoped>\n",
       "    .dataframe tbody tr th:only-of-type {\n",
       "        vertical-align: middle;\n",
       "    }\n",
       "\n",
       "    .dataframe tbody tr th {\n",
       "        vertical-align: top;\n",
       "    }\n",
       "\n",
       "    .dataframe thead th {\n",
       "        text-align: right;\n",
       "    }\n",
       "</style>\n",
       "<table border=\"1\" class=\"dataframe\">\n",
       "  <thead>\n",
       "    <tr style=\"text-align: right;\">\n",
       "      <th></th>\n",
       "      <th>id</th>\n",
       "      <th>title</th>\n",
       "      <th>text</th>\n",
       "    </tr>\n",
       "  </thead>\n",
       "  <tbody>\n",
       "    <tr>\n",
       "      <th>9</th>\n",
       "      <td>20809.0</td>\n",
       "      <td>NaN</td>\n",
       "      <td>don't we have the receipt?</td>\n",
       "    </tr>\n",
       "    <tr>\n",
       "      <th>22</th>\n",
       "      <td>20822.0</td>\n",
       "      <td>NaN</td>\n",
       "      <td>VERSE 9. THE STATE OF NATIONAL INSECURITY\\nThe...</td>\n",
       "    </tr>\n",
       "    <tr>\n",
       "      <th>42</th>\n",
       "      <td>20842.0</td>\n",
       "      <td>NaN</td>\n",
       "      <td>This is the biggest story not being reported.\\...</td>\n",
       "    </tr>\n",
       "    <tr>\n",
       "      <th>45</th>\n",
       "      <td>20845.0</td>\n",
       "      <td>NaN</td>\n",
       "      <td>I think we must get away from this…its not good…</td>\n",
       "    </tr>\n",
       "    <tr>\n",
       "      <th>48</th>\n",
       "      <td>20848.0</td>\n",
       "      <td>NaN</td>\n",
       "      <td>Unless this Pipeline in progress arranged with...</td>\n",
       "    </tr>\n",
       "  </tbody>\n",
       "</table>\n",
       "</div>"
      ],
      "text/plain": [
       "         id  title                                               text\n",
       "9   20809.0    NaN                         don't we have the receipt?\n",
       "22  20822.0    NaN  VERSE 9. THE STATE OF NATIONAL INSECURITY\\nThe...\n",
       "42  20842.0    NaN  This is the biggest story not being reported.\\...\n",
       "45  20845.0    NaN   I think we must get away from this…its not good…\n",
       "48  20848.0    NaN  Unless this Pipeline in progress arranged with..."
      ]
     },
     "execution_count": 38,
     "metadata": {},
     "output_type": "execute_result"
    }
   ],
   "source": [
    "# Print a few columns of the df\n",
    "title_missing_df.head()"
   ]
  },
  {
   "cell_type": "code",
   "execution_count": 39,
   "metadata": {},
   "outputs": [],
   "source": [
    "# Replace null values to '-'\n",
    "test['title'].replace(np.nan,\"-\",inplace = True)"
   ]
  },
  {
   "cell_type": "code",
   "execution_count": 40,
   "metadata": {},
   "outputs": [
    {
     "data": {
      "text/plain": [
       "0"
      ]
     },
     "execution_count": 40,
     "metadata": {},
     "output_type": "execute_result"
    }
   ],
   "source": [
    "# Check again if the title column still have missing values\n",
    "test['title'].isnull().sum()"
   ]
  },
  {
   "cell_type": "markdown",
   "metadata": {},
   "source": [
    "### Null Values in author column"
   ]
  },
  {
   "cell_type": "markdown",
   "metadata": {},
   "source": [
    "#### There are 503 empty entries in author column"
   ]
  },
  {
   "cell_type": "code",
   "execution_count": 41,
   "metadata": {},
   "outputs": [],
   "source": [
    "# Declare a new df\n",
    "author_missing_df = pd.DataFrame()\n",
    "\n",
    "# If the author is missing, store the info into the new df\n",
    "for i in range (0,len(test)):\n",
    "    if test['author'].isnull()[i] == True:\n",
    "        author_missing_df.loc[i,'id'] = test.loc[i,'id']\n",
    "        author_missing_df.loc[i,'title'] = test.loc[i,'title']\n",
    "        author_missing_df.loc[i,'text'] = test.loc[i,'text']"
   ]
  },
  {
   "cell_type": "code",
   "execution_count": 42,
   "metadata": {},
   "outputs": [
    {
     "data": {
      "text/html": [
       "<div>\n",
       "<style scoped>\n",
       "    .dataframe tbody tr th:only-of-type {\n",
       "        vertical-align: middle;\n",
       "    }\n",
       "\n",
       "    .dataframe tbody tr th {\n",
       "        vertical-align: top;\n",
       "    }\n",
       "\n",
       "    .dataframe thead th {\n",
       "        text-align: right;\n",
       "    }\n",
       "</style>\n",
       "<table border=\"1\" class=\"dataframe\">\n",
       "  <thead>\n",
       "    <tr style=\"text-align: right;\">\n",
       "      <th></th>\n",
       "      <th>id</th>\n",
       "      <th>title</th>\n",
       "      <th>text</th>\n",
       "    </tr>\n",
       "  </thead>\n",
       "  <tbody>\n",
       "    <tr>\n",
       "      <th>1</th>\n",
       "      <td>20801.0</td>\n",
       "      <td>Russian warships ready to strike terrorists ne...</td>\n",
       "      <td>Russian warships ready to strike terrorists ne...</td>\n",
       "    </tr>\n",
       "    <tr>\n",
       "      <th>5</th>\n",
       "      <td>20805.0</td>\n",
       "      <td>Trump is USA's antique hero. Clinton will be n...</td>\n",
       "      <td>Trump is USA's antique hero. Clinton will be n...</td>\n",
       "    </tr>\n",
       "    <tr>\n",
       "      <th>8</th>\n",
       "      <td>20808.0</td>\n",
       "      <td>Urban Population Booms Will Make Climate Chang...</td>\n",
       "      <td>Urban Population Booms Will Make Climate Chang...</td>\n",
       "    </tr>\n",
       "    <tr>\n",
       "      <th>34</th>\n",
       "      <td>20834.0</td>\n",
       "      <td>DAPL Protesters Proven Right as Largest Gas Pi...</td>\n",
       "      <td>DAPL Protesters Proven Right as Largest Gas Pi...</td>\n",
       "    </tr>\n",
       "    <tr>\n",
       "      <th>49</th>\n",
       "      <td>20849.0</td>\n",
       "      <td>Paul Craig Roberts: Trump faces assasination</td>\n",
       "      <td>Paul Craig Roberts: Trump faces assasination 0...</td>\n",
       "    </tr>\n",
       "  </tbody>\n",
       "</table>\n",
       "</div>"
      ],
      "text/plain": [
       "         id                                              title  \\\n",
       "1   20801.0  Russian warships ready to strike terrorists ne...   \n",
       "5   20805.0  Trump is USA's antique hero. Clinton will be n...   \n",
       "8   20808.0  Urban Population Booms Will Make Climate Chang...   \n",
       "34  20834.0  DAPL Protesters Proven Right as Largest Gas Pi...   \n",
       "49  20849.0       Paul Craig Roberts: Trump faces assasination   \n",
       "\n",
       "                                                 text  \n",
       "1   Russian warships ready to strike terrorists ne...  \n",
       "5   Trump is USA's antique hero. Clinton will be n...  \n",
       "8   Urban Population Booms Will Make Climate Chang...  \n",
       "34  DAPL Protesters Proven Right as Largest Gas Pi...  \n",
       "49  Paul Craig Roberts: Trump faces assasination 0...  "
      ]
     },
     "execution_count": 42,
     "metadata": {},
     "output_type": "execute_result"
    }
   ],
   "source": [
    "# Print a few columns of the df\n",
    "author_missing_df.head()"
   ]
  },
  {
   "cell_type": "code",
   "execution_count": 43,
   "metadata": {},
   "outputs": [],
   "source": [
    "# Replace null values to '-'\n",
    "test['author'].replace(np.nan,\"-\",inplace = True)"
   ]
  },
  {
   "cell_type": "code",
   "execution_count": 44,
   "metadata": {},
   "outputs": [
    {
     "data": {
      "text/plain": [
       "0"
      ]
     },
     "execution_count": 44,
     "metadata": {},
     "output_type": "execute_result"
    }
   ],
   "source": [
    "# Check again if the author column still have missing values\n",
    "test['author'].isnull().sum()"
   ]
  },
  {
   "cell_type": "markdown",
   "metadata": {},
   "source": [
    "## 2. Check Data Types"
   ]
  },
  {
   "cell_type": "code",
   "execution_count": 45,
   "metadata": {},
   "outputs": [
    {
     "name": "stdout",
     "output_type": "stream",
     "text": [
      "<class 'pandas.core.frame.DataFrame'>\n",
      "RangeIndex: 5200 entries, 0 to 5199\n",
      "Data columns (total 4 columns):\n",
      " #   Column  Non-Null Count  Dtype \n",
      "---  ------  --------------  ----- \n",
      " 0   id      5200 non-null   int64 \n",
      " 1   title   5200 non-null   object\n",
      " 2   author  5200 non-null   object\n",
      " 3   text    5200 non-null   object\n",
      "dtypes: int64(1), object(3)\n",
      "memory usage: 162.6+ KB\n"
     ]
    }
   ],
   "source": [
    "# Check through the data types of columns\n",
    "test.info()"
   ]
  },
  {
   "cell_type": "markdown",
   "metadata": {},
   "source": [
    "All the columns are in their desired data types, no need to change."
   ]
  },
  {
   "cell_type": "markdown",
   "metadata": {},
   "source": [
    "## 3. Check contents of each column to see if any abnormality exist"
   ]
  },
  {
   "cell_type": "code",
   "execution_count": 46,
   "metadata": {},
   "outputs": [
    {
     "data": {
      "text/html": [
       "<div>\n",
       "<style scoped>\n",
       "    .dataframe tbody tr th:only-of-type {\n",
       "        vertical-align: middle;\n",
       "    }\n",
       "\n",
       "    .dataframe tbody tr th {\n",
       "        vertical-align: top;\n",
       "    }\n",
       "\n",
       "    .dataframe thead th {\n",
       "        text-align: right;\n",
       "    }\n",
       "</style>\n",
       "<table border=\"1\" class=\"dataframe\">\n",
       "  <thead>\n",
       "    <tr style=\"text-align: right;\">\n",
       "      <th></th>\n",
       "      <th>id</th>\n",
       "      <th>title</th>\n",
       "      <th>author</th>\n",
       "      <th>text</th>\n",
       "    </tr>\n",
       "  </thead>\n",
       "  <tbody>\n",
       "    <tr>\n",
       "      <th>0</th>\n",
       "      <td>20800</td>\n",
       "      <td>Specter of Trump Loosens Tongues, if Not Purse...</td>\n",
       "      <td>David Streitfeld</td>\n",
       "      <td>PALO ALTO, Calif.  —   After years of scorning...</td>\n",
       "    </tr>\n",
       "    <tr>\n",
       "      <th>1</th>\n",
       "      <td>20801</td>\n",
       "      <td>Russian warships ready to strike terrorists ne...</td>\n",
       "      <td>-</td>\n",
       "      <td>Russian warships ready to strike terrorists ne...</td>\n",
       "    </tr>\n",
       "    <tr>\n",
       "      <th>2</th>\n",
       "      <td>20802</td>\n",
       "      <td>#NoDAPL: Native American Leaders Vow to Stay A...</td>\n",
       "      <td>Common Dreams</td>\n",
       "      <td>Videos #NoDAPL: Native American Leaders Vow to...</td>\n",
       "    </tr>\n",
       "    <tr>\n",
       "      <th>3</th>\n",
       "      <td>20803</td>\n",
       "      <td>Tim Tebow Will Attempt Another Comeback, This ...</td>\n",
       "      <td>Daniel Victor</td>\n",
       "      <td>If at first you don’t succeed, try a different...</td>\n",
       "    </tr>\n",
       "    <tr>\n",
       "      <th>4</th>\n",
       "      <td>20804</td>\n",
       "      <td>Keiser Report: Meme Wars (E995)</td>\n",
       "      <td>Truth Broadcast Network</td>\n",
       "      <td>42 mins ago 1 Views 0 Comments 0 Likes 'For th...</td>\n",
       "    </tr>\n",
       "    <tr>\n",
       "      <th>5</th>\n",
       "      <td>20805</td>\n",
       "      <td>Trump is USA's antique hero. Clinton will be n...</td>\n",
       "      <td>-</td>\n",
       "      <td>Trump is USA's antique hero. Clinton will be n...</td>\n",
       "    </tr>\n",
       "    <tr>\n",
       "      <th>6</th>\n",
       "      <td>20806</td>\n",
       "      <td>Pelosi Calls for FBI Investigation to Find Out...</td>\n",
       "      <td>Pam Key</td>\n",
       "      <td>Sunday on NBC’s “Meet the Press,” House Minori...</td>\n",
       "    </tr>\n",
       "    <tr>\n",
       "      <th>7</th>\n",
       "      <td>20807</td>\n",
       "      <td>Weekly Featured Profile – Randy Shannon</td>\n",
       "      <td>Trevor Loudon</td>\n",
       "      <td>You are here: Home / *Articles of the Bound* /...</td>\n",
       "    </tr>\n",
       "    <tr>\n",
       "      <th>8</th>\n",
       "      <td>20808</td>\n",
       "      <td>Urban Population Booms Will Make Climate Chang...</td>\n",
       "      <td>-</td>\n",
       "      <td>Urban Population Booms Will Make Climate Chang...</td>\n",
       "    </tr>\n",
       "    <tr>\n",
       "      <th>9</th>\n",
       "      <td>20809</td>\n",
       "      <td>-</td>\n",
       "      <td>cognitive dissident</td>\n",
       "      <td>don't we have the receipt?</td>\n",
       "    </tr>\n",
       "    <tr>\n",
       "      <th>10</th>\n",
       "      <td>20810</td>\n",
       "      <td>184 U.S. generals and admirals endorse Trump f...</td>\n",
       "      <td>Dr. Eowyn</td>\n",
       "      <td>Have you seen that pro-Hillary TV ad of disgra...</td>\n",
       "    </tr>\n",
       "    <tr>\n",
       "      <th>11</th>\n",
       "      <td>20811</td>\n",
       "      <td>“Working Class Hero” by John Brennon</td>\n",
       "      <td>Doug Diamond</td>\n",
       "      <td>Source: CNBC, article by Robert Ferris Arctic ...</td>\n",
       "    </tr>\n",
       "    <tr>\n",
       "      <th>12</th>\n",
       "      <td>20812</td>\n",
       "      <td>The Rise of Mandatory Vaccinations Means the E...</td>\n",
       "      <td>Shaun Bradley</td>\n",
       "      <td>Written by Shaun Bradley   Mandatory vaccinati...</td>\n",
       "    </tr>\n",
       "    <tr>\n",
       "      <th>13</th>\n",
       "      <td>20813</td>\n",
       "      <td>Communists Terrorize Small Business</td>\n",
       "      <td>Steve Watson</td>\n",
       "      <td>Store Communists Terrorize Small Business The ...</td>\n",
       "    </tr>\n",
       "    <tr>\n",
       "      <th>14</th>\n",
       "      <td>20814</td>\n",
       "      <td>Computer Programmer Comes Forward, Admits To B...</td>\n",
       "      <td>Usa News Flash</td>\n",
       "      <td>\\nVIA Conservative Tribune \\nIn 2000, computer...</td>\n",
       "    </tr>\n",
       "    <tr>\n",
       "      <th>15</th>\n",
       "      <td>20815</td>\n",
       "      <td>Thieves Take a Chunk of Change, All 221 Pounds...</td>\n",
       "      <td>Melissa Eddy</td>\n",
       "      <td>BERLIN  —   You could never palm it, flip it o...</td>\n",
       "    </tr>\n",
       "    <tr>\n",
       "      <th>16</th>\n",
       "      <td>20816</td>\n",
       "      <td>New England Patriots’ Owner, Still Sore at N.F...</td>\n",
       "      <td>Ken Belson and Ben Shpigel</td>\n",
       "      <td>FOXBOROUGH, Mass.  —   The N. F. L. likes port...</td>\n",
       "    </tr>\n",
       "    <tr>\n",
       "      <th>17</th>\n",
       "      <td>20817</td>\n",
       "      <td>College Republicans, YAF Sue Berkeley over Ann...</td>\n",
       "      <td>Tom Ciccotta</td>\n",
       "      <td>The Berkeley College Republicans and the Young...</td>\n",
       "    </tr>\n",
       "    <tr>\n",
       "      <th>18</th>\n",
       "      <td>20818</td>\n",
       "      <td>Trump Melts Down And Accuses The US Postal Ser...</td>\n",
       "      <td>Jason Easley</td>\n",
       "      <td>Trump warned his supporters that the US Postal...</td>\n",
       "    </tr>\n",
       "    <tr>\n",
       "      <th>19</th>\n",
       "      <td>20819</td>\n",
       "      <td>Visiting Madagascar? Leave Red Swimsuits (and ...</td>\n",
       "      <td>Bryant Rousseau</td>\n",
       "      <td>If you visit a certain beach in northeastern M...</td>\n",
       "    </tr>\n",
       "  </tbody>\n",
       "</table>\n",
       "</div>"
      ],
      "text/plain": [
       "       id                                              title  \\\n",
       "0   20800  Specter of Trump Loosens Tongues, if Not Purse...   \n",
       "1   20801  Russian warships ready to strike terrorists ne...   \n",
       "2   20802  #NoDAPL: Native American Leaders Vow to Stay A...   \n",
       "3   20803  Tim Tebow Will Attempt Another Comeback, This ...   \n",
       "4   20804                    Keiser Report: Meme Wars (E995)   \n",
       "5   20805  Trump is USA's antique hero. Clinton will be n...   \n",
       "6   20806  Pelosi Calls for FBI Investigation to Find Out...   \n",
       "7   20807            Weekly Featured Profile – Randy Shannon   \n",
       "8   20808  Urban Population Booms Will Make Climate Chang...   \n",
       "9   20809                                                  -   \n",
       "10  20810  184 U.S. generals and admirals endorse Trump f...   \n",
       "11  20811               “Working Class Hero” by John Brennon   \n",
       "12  20812  The Rise of Mandatory Vaccinations Means the E...   \n",
       "13  20813                Communists Terrorize Small Business   \n",
       "14  20814  Computer Programmer Comes Forward, Admits To B...   \n",
       "15  20815  Thieves Take a Chunk of Change, All 221 Pounds...   \n",
       "16  20816  New England Patriots’ Owner, Still Sore at N.F...   \n",
       "17  20817  College Republicans, YAF Sue Berkeley over Ann...   \n",
       "18  20818  Trump Melts Down And Accuses The US Postal Ser...   \n",
       "19  20819  Visiting Madagascar? Leave Red Swimsuits (and ...   \n",
       "\n",
       "                        author  \\\n",
       "0             David Streitfeld   \n",
       "1                            -   \n",
       "2                Common Dreams   \n",
       "3                Daniel Victor   \n",
       "4      Truth Broadcast Network   \n",
       "5                            -   \n",
       "6                      Pam Key   \n",
       "7                Trevor Loudon   \n",
       "8                            -   \n",
       "9          cognitive dissident   \n",
       "10                   Dr. Eowyn   \n",
       "11                Doug Diamond   \n",
       "12               Shaun Bradley   \n",
       "13                Steve Watson   \n",
       "14              Usa News Flash   \n",
       "15                Melissa Eddy   \n",
       "16  Ken Belson and Ben Shpigel   \n",
       "17                Tom Ciccotta   \n",
       "18                Jason Easley   \n",
       "19             Bryant Rousseau   \n",
       "\n",
       "                                                 text  \n",
       "0   PALO ALTO, Calif.  —   After years of scorning...  \n",
       "1   Russian warships ready to strike terrorists ne...  \n",
       "2   Videos #NoDAPL: Native American Leaders Vow to...  \n",
       "3   If at first you don’t succeed, try a different...  \n",
       "4   42 mins ago 1 Views 0 Comments 0 Likes 'For th...  \n",
       "5   Trump is USA's antique hero. Clinton will be n...  \n",
       "6   Sunday on NBC’s “Meet the Press,” House Minori...  \n",
       "7   You are here: Home / *Articles of the Bound* /...  \n",
       "8   Urban Population Booms Will Make Climate Chang...  \n",
       "9                          don't we have the receipt?  \n",
       "10  Have you seen that pro-Hillary TV ad of disgra...  \n",
       "11  Source: CNBC, article by Robert Ferris Arctic ...  \n",
       "12  Written by Shaun Bradley   Mandatory vaccinati...  \n",
       "13  Store Communists Terrorize Small Business The ...  \n",
       "14  \\nVIA Conservative Tribune \\nIn 2000, computer...  \n",
       "15  BERLIN  —   You could never palm it, flip it o...  \n",
       "16  FOXBOROUGH, Mass.  —   The N. F. L. likes port...  \n",
       "17  The Berkeley College Republicans and the Young...  \n",
       "18  Trump warned his supporters that the US Postal...  \n",
       "19  If you visit a certain beach in northeastern M...  "
      ]
     },
     "execution_count": 46,
     "metadata": {},
     "output_type": "execute_result"
    }
   ],
   "source": [
    "# Print a few rows to see the dataframe\n",
    "test.head(20)"
   ]
  },
  {
   "cell_type": "markdown",
   "metadata": {},
   "source": [
    "Nothing seems abnormal."
   ]
  },
  {
   "cell_type": "markdown",
   "metadata": {},
   "source": [
    "## 4. Save test dataset"
   ]
  },
  {
   "cell_type": "code",
   "execution_count": 47,
   "metadata": {},
   "outputs": [],
   "source": [
    "# Save dataset to csv as a modified dataset\n",
    "test.to_csv('../datasets/test_modified.csv', index = False)"
   ]
  },
  {
   "cell_type": "markdown",
   "metadata": {},
   "source": [
    "# Feature Engineering"
   ]
  },
  {
   "cell_type": "markdown",
   "metadata": {},
   "source": [
    "## Concatenate the 'title' and 'text' columns"
   ]
  },
  {
   "cell_type": "code",
   "execution_count": 48,
   "metadata": {},
   "outputs": [],
   "source": [
    "# Concatenate the 'title' and 'text' in train dataset\n",
    "train['title_text'] = train['title'] +\" \"+ train['text']"
   ]
  },
  {
   "cell_type": "code",
   "execution_count": 49,
   "metadata": {},
   "outputs": [],
   "source": [
    "# Concatenate the 'title' and 'text' in test dataset\n",
    "test['title_text'] = test['title'] +\" \"+ test['text']"
   ]
  },
  {
   "cell_type": "markdown",
   "metadata": {},
   "source": [
    "## Data Cleaning Using Natural Language Processing Techniques"
   ]
  },
  {
   "cell_type": "markdown",
   "metadata": {},
   "source": [
    "### 1. Remove punctuations, tokenize, remove stopwords and lemmatize"
   ]
  },
  {
   "cell_type": "code",
   "execution_count": 50,
   "metadata": {},
   "outputs": [],
   "source": [
    "# Initiate the stopwards and lemmatizer\n",
    "stopwords = nltk.corpus.stopwords.words('english')\n",
    "wn = nltk.WordNetLemmatizer()"
   ]
  },
  {
   "cell_type": "code",
   "execution_count": 51,
   "metadata": {},
   "outputs": [],
   "source": [
    "# Defining a function to do all followings: Remove punctuations, tokenize, remove stopwords, and lemmanize\n",
    "def clean_text(text):\n",
    "    # remove unicode characters\n",
    "    text = text.encode('ascii', 'ignore').decode()\n",
    "    \n",
    "    # Remove punctuation and lowercasing the words\n",
    "    text = \"\".join([word.lower() for word in text if word not in string.punctuation])\n",
    "    \n",
    "    # \\W matches any non-word character (equivalent to [^a-zA-Z0-9_]). This does not include spaces i.e. \\s\n",
    "    # Add a + just in case there are 2 or more spaces between certain words\n",
    "    tokens = re.split('\\W+', text)\n",
    "    \n",
    "    # apply lemmanization and stopwords exclusion within the same step\n",
    "    text = [wn.lemmatize(word) for word in tokens if word not in stopwords]\n",
    "    return text"
   ]
  },
  {
   "cell_type": "code",
   "execution_count": 52,
   "metadata": {},
   "outputs": [],
   "source": [
    "# Applying the function on 'title_text' and store it in new column 'title_text_clean'\n",
    "train['title_text_clean'] = train['title_text'].apply(lambda x: clean_text(x))"
   ]
  },
  {
   "cell_type": "code",
   "execution_count": 53,
   "metadata": {},
   "outputs": [],
   "source": [
    "# Applying the function on 'title_text' and store it in new column 'title_text_clean'\n",
    "test['title_text_clean'] = test['title_text'].apply(lambda x: clean_text(x))"
   ]
  },
  {
   "cell_type": "markdown",
   "metadata": {},
   "source": [
    "### 2. Saving the clean datasets"
   ]
  },
  {
   "cell_type": "code",
   "execution_count": 54,
   "metadata": {},
   "outputs": [],
   "source": [
    "# Save train dataset once again\n",
    "train.to_csv('../datasets/train_modified.csv', index = False)\n",
    "\n",
    "# Save test dataset once again\n",
    "test.to_csv('../datasets/test_modified.csv', index = False)"
   ]
  },
  {
   "cell_type": "markdown",
   "metadata": {},
   "source": [
    "# Exploratory Data Analysis (EDA)"
   ]
  },
  {
   "cell_type": "markdown",
   "metadata": {},
   "source": [
    "### To understand the length of article by words, partition by fake or real articles"
   ]
  },
  {
   "cell_type": "code",
   "execution_count": 55,
   "metadata": {},
   "outputs": [],
   "source": [
    "# defining a function to find the length of article by words\n",
    "def article_length_word(text):\n",
    "    split_words = text.split(\" \")\n",
    "    return len(split_words)"
   ]
  },
  {
   "cell_type": "code",
   "execution_count": 56,
   "metadata": {},
   "outputs": [],
   "source": [
    "# Applying the function on 'text' and store it in new column 'article_length_word'\n",
    "train['article_length_word'] = train['text'].apply(lambda x: article_length_word(x))"
   ]
  },
  {
   "cell_type": "code",
   "execution_count": 58,
   "metadata": {},
   "outputs": [
    {
     "data": {
      "image/png": "[encoded data removed]",
      "text/plain": [
       "<Figure size 432x432 with 1 Axes>"
      ]
     },
     "metadata": {
      "needs_background": "light"
     },
     "output_type": "display_data"
    }
   ],
   "source": [
    "# Plot a boxplot of article_length_word, groupby 'label'\n",
    "train.boxplot(column='article_length_word', by = 'label', figsize = (6,6), showfliers = True);\n",
    "\n",
    "plt.xlabel('Fake or Real News Articles (1 = Fake, 0 = Real)')\n",
    "plt.ylabel('Length of Article by Words')\n",
    "plt.title('Length of Article by Words partition by Fake and Real News Articles')\n",
    "\n",
    "# Save the chart\n",
    "plt.savefig('../presentation slides/Image Used in Slides/Boxplot_article_length.png')"
   ]
  },
  {
   "cell_type": "code",
   "execution_count": 60,
   "metadata": {
    "scrolled": true
   },
   "outputs": [
    {
     "data": {
      "text/html": [
       "<div>\n",
       "<style scoped>\n",
       "    .dataframe tbody tr th:only-of-type {\n",
       "        vertical-align: middle;\n",
       "    }\n",
       "\n",
       "    .dataframe tbody tr th {\n",
       "        vertical-align: top;\n",
       "    }\n",
       "\n",
       "    .dataframe thead th {\n",
       "        text-align: right;\n",
       "    }\n",
       "</style>\n",
       "<table border=\"1\" class=\"dataframe\">\n",
       "  <thead>\n",
       "    <tr style=\"text-align: right;\">\n",
       "      <th></th>\n",
       "      <th>count</th>\n",
       "      <th>mean</th>\n",
       "      <th>std</th>\n",
       "      <th>min</th>\n",
       "      <th>25%</th>\n",
       "      <th>50%</th>\n",
       "      <th>75%</th>\n",
       "      <th>max</th>\n",
       "    </tr>\n",
       "    <tr>\n",
       "      <th>label</th>\n",
       "      <th></th>\n",
       "      <th></th>\n",
       "      <th></th>\n",
       "      <th></th>\n",
       "      <th></th>\n",
       "      <th></th>\n",
       "      <th></th>\n",
       "      <th></th>\n",
       "    </tr>\n",
       "  </thead>\n",
       "  <tbody>\n",
       "    <tr>\n",
       "      <th>0</th>\n",
       "      <td>10381.0</td>\n",
       "      <td>907.812735</td>\n",
       "      <td>765.572366</td>\n",
       "      <td>1.0</td>\n",
       "      <td>417.0</td>\n",
       "      <td>798.0</td>\n",
       "      <td>1215.0</td>\n",
       "      <td>15272.0</td>\n",
       "    </tr>\n",
       "    <tr>\n",
       "      <th>1</th>\n",
       "      <td>9129.0</td>\n",
       "      <td>677.735239</td>\n",
       "      <td>989.830703</td>\n",
       "      <td>1.0</td>\n",
       "      <td>208.0</td>\n",
       "      <td>417.0</td>\n",
       "      <td>819.0</td>\n",
       "      <td>24234.0</td>\n",
       "    </tr>\n",
       "  </tbody>\n",
       "</table>\n",
       "</div>"
      ],
      "text/plain": [
       "         count        mean         std  min    25%    50%     75%      max\n",
       "label                                                                     \n",
       "0      10381.0  907.812735  765.572366  1.0  417.0  798.0  1215.0  15272.0\n",
       "1       9129.0  677.735239  989.830703  1.0  208.0  417.0   819.0  24234.0"
      ]
     },
     "execution_count": 60,
     "metadata": {},
     "output_type": "execute_result"
    }
   ],
   "source": [
    "# Show the summary statistics of article_length_word\n",
    "train['article_length_word'].groupby(train['label']).describe()"
   ]
  },
  {
   "cell_type": "code",
   "execution_count": 61,
   "metadata": {},
   "outputs": [],
   "source": [
    "# Store 'label' = 0 into 'article_length_word_real', store 'label' = 1 into 'article_length_word_fake'\n",
    "article_length_word_real = train.loc[train['label'] == 0]\n",
    "article_length_word_fake = train.loc[train['label'] == 1]"
   ]
  },
  {
   "cell_type": "code",
   "execution_count": 62,
   "metadata": {},
   "outputs": [
    {
     "data": {
      "image/png": "[encoded data removed]",
      "text/plain": [
       "<Figure size 432x432 with 1 Axes>"
      ]
     },
     "metadata": {},
     "output_type": "display_data"
    }
   ],
   "source": [
    "# Plot both distribution plots together\n",
    "sns.set(rc={'figure.figsize':(6,6)})      # Set the figure size\n",
    "sns.distplot(article_length_word_real['article_length_word'], kde=False, label='Real News');\n",
    "sns.distplot(article_length_word_fake['article_length_word'], kde=False, label='Fake News');\n",
    "plt.legend()        # Plot the legend out\n",
    "plt.xlim(0,3000);   # Set x-limit\n",
    "plt.ylabel('Frequency')\n",
    "plt.title('Distribution of Frequency of Article length by Words');\n",
    "\n",
    "# Save the chart\n",
    "plt.savefig('../presentation slides/Image Used in Slides/Distribution_article_length.png')"
   ]
  },
  {
   "cell_type": "markdown",
   "metadata": {},
   "source": [
    "### To understand the most common words appeared"
   ]
  },
  {
   "cell_type": "markdown",
   "metadata": {},
   "source": [
    "#### Using N-Gram Method"
   ]
  },
  {
   "cell_type": "code",
   "execution_count": 63,
   "metadata": {},
   "outputs": [],
   "source": [
    "# To use N-Gram, it requires a full sentence to be passed in as opposed to a tokenized list\n",
    "# Define a function to join back the list of words\n",
    "def join_clean_text(list):\n",
    "    text = \" \".join(list)\n",
    "    return text"
   ]
  },
  {
   "cell_type": "code",
   "execution_count": 64,
   "metadata": {},
   "outputs": [],
   "source": [
    "# Applying the function on 'title_text_clean' and store it in new column 'title_text_clean_joined'\n",
    "train['title_text_clean_joined'] = train['title_text_clean'].apply(lambda x: join_clean_text(x))"
   ]
  },
  {
   "cell_type": "code",
   "execution_count": 65,
   "metadata": {},
   "outputs": [],
   "source": [
    "# Divide train dataset into 2 df of real news and fake news\n",
    "train_real = train[train['label'] == 0]\n",
    "train_fake = train[train['label'] == 1]"
   ]
  },
  {
   "cell_type": "markdown",
   "metadata": {},
   "source": [
    "#### 1 x 1 N-Gram - Real News"
   ]
  },
  {
   "cell_type": "code",
   "execution_count": 66,
   "metadata": {},
   "outputs": [
    {
     "name": "stdout",
     "output_type": "stream",
     "text": [
      "(10381, 92794)\n"
     ]
    }
   ],
   "source": [
    "# Do a count vectorizer with a parameter of 1 by 1, unigram.\n",
    "ngram_vect = CountVectorizer(ngram_range=(1,1))\n",
    "# Transform the 'title_text_clean_joined' into a sparse matrix \n",
    "X_counts = ngram_vect.fit_transform(train_real['title_text_clean_joined'])\n",
    "\n",
    "# Print the shape of X_counts\n",
    "print(X_counts.shape)\n",
    "\n",
    "# The dataset have 92794 unique 1-word"
   ]
  },
  {
   "cell_type": "code",
   "execution_count": 67,
   "metadata": {},
   "outputs": [
    {
     "data": {
      "text/html": [
       "<div>\n",
       "<style scoped>\n",
       "    .dataframe tbody tr th:only-of-type {\n",
       "        vertical-align: middle;\n",
       "    }\n",
       "\n",
       "    .dataframe tbody tr th {\n",
       "        vertical-align: top;\n",
       "    }\n",
       "\n",
       "    .dataframe thead th {\n",
       "        text-align: right;\n",
       "    }\n",
       "</style>\n",
       "<table border=\"1\" class=\"dataframe\">\n",
       "  <thead>\n",
       "    <tr style=\"text-align: right;\">\n",
       "      <th></th>\n",
       "      <th>00</th>\n",
       "      <th>000</th>\n",
       "      <th>0000</th>\n",
       "      <th>0001</th>\n",
       "      <th>0009</th>\n",
       "      <th>000c</th>\n",
       "      <th>000s</th>\n",
       "      <th>000th</th>\n",
       "      <th>001</th>\n",
       "      <th>0012</th>\n",
       "      <th>...</th>\n",
       "      <th>zwigoff</th>\n",
       "      <th>zwigoffs</th>\n",
       "      <th>zwim</th>\n",
       "      <th>zwolenkiewicz</th>\n",
       "      <th>zwolle</th>\n",
       "      <th>zyaira</th>\n",
       "      <th>zyaratgah</th>\n",
       "      <th>zynga</th>\n",
       "      <th>zytiga</th>\n",
       "      <th>zzzzs</th>\n",
       "    </tr>\n",
       "  </thead>\n",
       "  <tbody>\n",
       "    <tr>\n",
       "      <th>0</th>\n",
       "      <td>8</td>\n",
       "      <td>5489</td>\n",
       "      <td>2</td>\n",
       "      <td>1</td>\n",
       "      <td>1</td>\n",
       "      <td>1</td>\n",
       "      <td>2</td>\n",
       "      <td>6</td>\n",
       "      <td>8</td>\n",
       "      <td>1</td>\n",
       "      <td>...</td>\n",
       "      <td>1</td>\n",
       "      <td>1</td>\n",
       "      <td>1</td>\n",
       "      <td>3</td>\n",
       "      <td>3</td>\n",
       "      <td>1</td>\n",
       "      <td>1</td>\n",
       "      <td>2</td>\n",
       "      <td>1</td>\n",
       "      <td>1</td>\n",
       "    </tr>\n",
       "  </tbody>\n",
       "</table>\n",
       "<p>1 rows × 92794 columns</p>\n",
       "</div>"
      ],
      "text/plain": [
       "   00   000  0000  0001  0009  000c  000s  000th  001  0012  ...  zwigoff  \\\n",
       "0   8  5489     2     1     1     1     2      6    8     1  ...        1   \n",
       "\n",
       "   zwigoffs  zwim  zwolenkiewicz  zwolle  zyaira  zyaratgah  zynga  zytiga  \\\n",
       "0         1     1              3       3       1          1      2       1   \n",
       "\n",
       "   zzzzs  \n",
       "0      1  \n",
       "\n",
       "[1 rows x 92794 columns]"
      ]
     },
     "execution_count": 67,
     "metadata": {},
     "output_type": "execute_result"
    }
   ],
   "source": [
    "# Sum all the rows of 'X_counts' to 1 row, and store it in a data frame 'X_counts_df'\n",
    "X_counts_df = pd.DataFrame(X_counts.sum(axis=0))\n",
    "\n",
    "# Rename the columns with the words\n",
    "X_counts_df.columns = ngram_vect.get_feature_names()\n",
    "\n",
    "# Print'X_counts_df'\n",
    "X_counts_df.head()"
   ]
  },
  {
   "cell_type": "code",
   "execution_count": 68,
   "metadata": {},
   "outputs": [
    {
     "data": {
      "text/html": [
       "<div>\n",
       "<style scoped>\n",
       "    .dataframe tbody tr th:only-of-type {\n",
       "        vertical-align: middle;\n",
       "    }\n",
       "\n",
       "    .dataframe tbody tr th {\n",
       "        vertical-align: top;\n",
       "    }\n",
       "\n",
       "    .dataframe thead th {\n",
       "        text-align: right;\n",
       "    }\n",
       "</style>\n",
       "<table border=\"1\" class=\"dataframe\">\n",
       "  <thead>\n",
       "    <tr style=\"text-align: right;\">\n",
       "      <th></th>\n",
       "      <th>count</th>\n",
       "    </tr>\n",
       "  </thead>\n",
       "  <tbody>\n",
       "    <tr>\n",
       "      <th>mr</th>\n",
       "      <td>69267</td>\n",
       "    </tr>\n",
       "    <tr>\n",
       "      <th>said</th>\n",
       "      <td>68215</td>\n",
       "    </tr>\n",
       "    <tr>\n",
       "      <th>trump</th>\n",
       "      <td>38362</td>\n",
       "    </tr>\n",
       "    <tr>\n",
       "      <th>new</th>\n",
       "      <td>26327</td>\n",
       "    </tr>\n",
       "    <tr>\n",
       "      <th>time</th>\n",
       "      <td>24291</td>\n",
       "    </tr>\n",
       "    <tr>\n",
       "      <th>one</th>\n",
       "      <td>23576</td>\n",
       "    </tr>\n",
       "    <tr>\n",
       "      <th>would</th>\n",
       "      <td>22842</td>\n",
       "    </tr>\n",
       "    <tr>\n",
       "      <th>state</th>\n",
       "      <td>22790</td>\n",
       "    </tr>\n",
       "    <tr>\n",
       "      <th>year</th>\n",
       "      <td>21737</td>\n",
       "    </tr>\n",
       "    <tr>\n",
       "      <th>people</th>\n",
       "      <td>20116</td>\n",
       "    </tr>\n",
       "  </tbody>\n",
       "</table>\n",
       "</div>"
      ],
      "text/plain": [
       "        count\n",
       "mr      69267\n",
       "said    68215\n",
       "trump   38362\n",
       "new     26327\n",
       "time    24291\n",
       "one     23576\n",
       "would   22842\n",
       "state   22790\n",
       "year    21737\n",
       "people  20116"
      ]
     },
     "execution_count": 68,
     "metadata": {},
     "output_type": "execute_result"
    }
   ],
   "source": [
    "# Transpose the 'X_counts_df' and store in 'X_counts_df_transposed'\n",
    "X_counts_df_transposed = X_counts_df.T\n",
    "\n",
    "# Rename the column from 0 to 'count'\n",
    "X_counts_df_transposed.rename(columns={0: 'count'}, inplace = True)\n",
    "\n",
    "# Sort the dataframe by 'count' in descending order\n",
    "X_counts_df_transposed = X_counts_df_transposed.sort_values(by = 'count', ascending = False)\n",
    "\n",
    "# Print a few rows of \"X_counts_df_transposed\"\n",
    "X_counts_df_transposed.head(10)"
   ]
  },
  {
   "cell_type": "code",
   "execution_count": 69,
   "metadata": {},
   "outputs": [],
   "source": [
    "# Store the top 20 1-word combinations into 'X_counts_df_transposed_top20'\n",
    "X_counts_df_transposed_top20 = X_counts_df_transposed.head(20)"
   ]
  },
  {
   "cell_type": "code",
   "execution_count": 70,
   "metadata": {},
   "outputs": [
    {
     "data": {
      "image/png": "[encoded data removed]",
      "text/plain": [
       "<Figure size 432x432 with 1 Axes>"
      ]
     },
     "metadata": {},
     "output_type": "display_data"
    }
   ],
   "source": [
    "# Plot the horizontal bar chart \n",
    "ax = X_counts_df_transposed_top20.plot(kind='barh', figsize = (6,6))\n",
    "ax.invert_yaxis()          # Invert the y-axis from more to less\n",
    "plt.xlabel('Frequency of 1-word appearance')\n",
    "plt.ylabel('Word')\n",
    "plt.title('Frequency of 1-word appearance appeared in real articles');\n",
    "\n",
    "# Save the chart\n",
    "plt.savefig('../presentation slides/Image Used in Slides/Frequency_of_1_word_real_articles.png')"
   ]
  },
  {
   "cell_type": "markdown",
   "metadata": {},
   "source": [
    "#### 1 x 1 N-Gram - Fake News"
   ]
  },
  {
   "cell_type": "code",
   "execution_count": 71,
   "metadata": {
    "scrolled": true
   },
   "outputs": [
    {
     "name": "stdout",
     "output_type": "stream",
     "text": [
      "(9129, 127341)\n"
     ]
    }
   ],
   "source": [
    "# Do a count vectorizer with a parameter of 1 by 1, unigram.\n",
    "ngram_vect = CountVectorizer(ngram_range=(1,1))\n",
    "# Transform the 'title_text_clean_joined' into a sparse matrix \n",
    "X_counts = ngram_vect.fit_transform(train_fake['title_text_clean_joined'])\n",
    "\n",
    "# The dataset has 127341 unique 1-word\n",
    "print(X_counts.shape)"
   ]
  },
  {
   "cell_type": "code",
   "execution_count": 72,
   "metadata": {},
   "outputs": [
    {
     "data": {
      "text/html": [
       "<div>\n",
       "<style scoped>\n",
       "    .dataframe tbody tr th:only-of-type {\n",
       "        vertical-align: middle;\n",
       "    }\n",
       "\n",
       "    .dataframe tbody tr th {\n",
       "        vertical-align: top;\n",
       "    }\n",
       "\n",
       "    .dataframe thead th {\n",
       "        text-align: right;\n",
       "    }\n",
       "</style>\n",
       "<table border=\"1\" class=\"dataframe\">\n",
       "  <thead>\n",
       "    <tr style=\"text-align: right;\">\n",
       "      <th></th>\n",
       "      <th>00</th>\n",
       "      <th>000</th>\n",
       "      <th>0000</th>\n",
       "      <th>0000035</th>\n",
       "      <th>00001400</th>\n",
       "      <th>000025</th>\n",
       "      <th>00011</th>\n",
       "      <th>00013</th>\n",
       "      <th>00017b2908ff9fa45188d243fd49aaeeb2dhrcofficecom</th>\n",
       "      <th>0002</th>\n",
       "      <th>...</th>\n",
       "      <th>zwrocie</th>\n",
       "      <th>zwrotu</th>\n",
       "      <th>zwycistwo</th>\n",
       "      <th>zx</th>\n",
       "      <th>zygankow</th>\n",
       "      <th>zygar</th>\n",
       "      <th>zylinderkopfdichtung</th>\n",
       "      <th>zymon</th>\n",
       "      <th>zytsov</th>\n",
       "      <th>zyuganov</th>\n",
       "    </tr>\n",
       "  </thead>\n",
       "  <tbody>\n",
       "    <tr>\n",
       "      <th>0</th>\n",
       "      <td>33</td>\n",
       "      <td>52</td>\n",
       "      <td>9</td>\n",
       "      <td>1</td>\n",
       "      <td>1</td>\n",
       "      <td>1</td>\n",
       "      <td>1</td>\n",
       "      <td>1</td>\n",
       "      <td>3</td>\n",
       "      <td>1</td>\n",
       "      <td>...</td>\n",
       "      <td>1</td>\n",
       "      <td>1</td>\n",
       "      <td>1</td>\n",
       "      <td>1</td>\n",
       "      <td>3</td>\n",
       "      <td>3</td>\n",
       "      <td>1</td>\n",
       "      <td>1</td>\n",
       "      <td>1</td>\n",
       "      <td>7</td>\n",
       "    </tr>\n",
       "  </tbody>\n",
       "</table>\n",
       "<p>1 rows × 127341 columns</p>\n",
       "</div>"
      ],
      "text/plain": [
       "   00  000  0000  0000035  00001400  000025  00011  00013  \\\n",
       "0  33   52     9        1         1       1      1      1   \n",
       "\n",
       "   00017b2908ff9fa45188d243fd49aaeeb2dhrcofficecom  0002  ...  zwrocie  \\\n",
       "0                                                3     1  ...        1   \n",
       "\n",
       "   zwrotu  zwycistwo  zx  zygankow  zygar  zylinderkopfdichtung  zymon  \\\n",
       "0       1          1   1         3      3                     1      1   \n",
       "\n",
       "   zytsov  zyuganov  \n",
       "0       1         7  \n",
       "\n",
       "[1 rows x 127341 columns]"
      ]
     },
     "execution_count": 72,
     "metadata": {},
     "output_type": "execute_result"
    }
   ],
   "source": [
    "# Sum all the rows of 'X_counts' to 1 row, and store it in a data frame 'X_counts_df'\n",
    "X_counts_df = pd.DataFrame(X_counts.sum(axis=0))\n",
    "\n",
    "# Rename the columns with the words\n",
    "X_counts_df.columns = ngram_vect.get_feature_names()\n",
    "\n",
    "# Print 'X_counts_df'\n",
    "X_counts_df.head()"
   ]
  },
  {
   "cell_type": "code",
   "execution_count": 73,
   "metadata": {},
   "outputs": [
    {
     "data": {
      "text/html": [
       "<div>\n",
       "<style scoped>\n",
       "    .dataframe tbody tr th:only-of-type {\n",
       "        vertical-align: middle;\n",
       "    }\n",
       "\n",
       "    .dataframe tbody tr th {\n",
       "        vertical-align: top;\n",
       "    }\n",
       "\n",
       "    .dataframe thead th {\n",
       "        text-align: right;\n",
       "    }\n",
       "</style>\n",
       "<table border=\"1\" class=\"dataframe\">\n",
       "  <thead>\n",
       "    <tr style=\"text-align: right;\">\n",
       "      <th></th>\n",
       "      <th>count</th>\n",
       "    </tr>\n",
       "  </thead>\n",
       "  <tbody>\n",
       "    <tr>\n",
       "      <th>trump</th>\n",
       "      <td>19674</td>\n",
       "    </tr>\n",
       "    <tr>\n",
       "      <th>clinton</th>\n",
       "      <td>18795</td>\n",
       "    </tr>\n",
       "    <tr>\n",
       "      <th>people</th>\n",
       "      <td>15665</td>\n",
       "    </tr>\n",
       "    <tr>\n",
       "      <th>one</th>\n",
       "      <td>15387</td>\n",
       "    </tr>\n",
       "    <tr>\n",
       "      <th>state</th>\n",
       "      <td>13891</td>\n",
       "    </tr>\n",
       "    <tr>\n",
       "      <th>would</th>\n",
       "      <td>13312</td>\n",
       "    </tr>\n",
       "    <tr>\n",
       "      <th>hillary</th>\n",
       "      <td>12241</td>\n",
       "    </tr>\n",
       "    <tr>\n",
       "      <th>time</th>\n",
       "      <td>11346</td>\n",
       "    </tr>\n",
       "    <tr>\n",
       "      <th>said</th>\n",
       "      <td>11046</td>\n",
       "    </tr>\n",
       "    <tr>\n",
       "      <th>year</th>\n",
       "      <td>9898</td>\n",
       "    </tr>\n",
       "  </tbody>\n",
       "</table>\n",
       "</div>"
      ],
      "text/plain": [
       "         count\n",
       "trump    19674\n",
       "clinton  18795\n",
       "people   15665\n",
       "one      15387\n",
       "state    13891\n",
       "would    13312\n",
       "hillary  12241\n",
       "time     11346\n",
       "said     11046\n",
       "year      9898"
      ]
     },
     "execution_count": 73,
     "metadata": {},
     "output_type": "execute_result"
    }
   ],
   "source": [
    "# Transpose the 'X_counts_df' and store in 'X_counts_df_transposed'\n",
    "X_counts_df_transposed = X_counts_df.T\n",
    "\n",
    "# Rename the column from 0 to 'count'\n",
    "X_counts_df_transposed.rename(columns={0: 'count'}, inplace = True)\n",
    "\n",
    "# Sort the dataframe by 'count' in descending order\n",
    "X_counts_df_transposed = X_counts_df_transposed.sort_values(by = 'count', ascending = False)\n",
    "\n",
    "# Print a few rows of \"X_counts_df_transposed\"\n",
    "X_counts_df_transposed.head(10)"
   ]
  },
  {
   "cell_type": "code",
   "execution_count": 74,
   "metadata": {},
   "outputs": [],
   "source": [
    "# Store the top 20 1-word combinations into 'X_counts_df_transposed_top20'\n",
    "X_counts_df_transposed_top20 = X_counts_df_transposed.head(20)"
   ]
  },
  {
   "cell_type": "code",
   "execution_count": 76,
   "metadata": {},
   "outputs": [
    {
     "data": {
      "image/png": "[encoded data removed]",
      "text/plain": [
       "<Figure size 432x432 with 1 Axes>"
      ]
     },
     "metadata": {},
     "output_type": "display_data"
    }
   ],
   "source": [
    "# Plot the horizontal bar chart \n",
    "ax = X_counts_df_transposed_top20.plot(kind='barh', figsize = (6,6))\n",
    "ax.invert_yaxis()          # Invert the y-axis from more to less\n",
    "plt.xlabel('Frequency of 1-word appearance')\n",
    "plt.ylabel('Word')\n",
    "plt.title('Frequency of 1-word appearance appeared in fake articles');\n",
    "\n",
    "# Save the chart\n",
    "plt.savefig('../presentation slides/Image Used in Slides/Frequency_of_1_word_fake_articles.png')"
   ]
  },
  {
   "cell_type": "markdown",
   "metadata": {},
   "source": [
    "#### 2 x 2 N-Gram - Real News"
   ]
  },
  {
   "cell_type": "code",
   "execution_count": 77,
   "metadata": {},
   "outputs": [
    {
     "name": "stdout",
     "output_type": "stream",
     "text": [
      "(10381, 2801296)\n"
     ]
    }
   ],
   "source": [
    "# Do a count vectorizer with a parameter of 2 by 2, bigram.\n",
    "ngram_vect = CountVectorizer(ngram_range=(2,2))\n",
    "# Transform the 'title_text_clean_joined' into a sparse matrix \n",
    "X_counts = ngram_vect.fit_transform(train_real['title_text_clean_joined'])\n",
    "\n",
    "# The dataset has 2801296 unique 2-word\n",
    "print(X_counts.shape)"
   ]
  },
  {
   "cell_type": "code",
   "execution_count": 78,
   "metadata": {},
   "outputs": [
    {
     "data": {
      "text/html": [
       "<div>\n",
       "<style scoped>\n",
       "    .dataframe tbody tr th:only-of-type {\n",
       "        vertical-align: middle;\n",
       "    }\n",
       "\n",
       "    .dataframe tbody tr th {\n",
       "        vertical-align: top;\n",
       "    }\n",
       "\n",
       "    .dataframe thead th {\n",
       "        text-align: right;\n",
       "    }\n",
       "</style>\n",
       "<table border=\"1\" class=\"dataframe\">\n",
       "  <thead>\n",
       "    <tr style=\"text-align: right;\">\n",
       "      <th></th>\n",
       "      <th>00 crime</th>\n",
       "      <th>00 gop</th>\n",
       "      <th>00 job</th>\n",
       "      <th>00 mr</th>\n",
       "      <th>00 msnbcs</th>\n",
       "      <th>00 one</th>\n",
       "      <th>00 percent</th>\n",
       "      <th>00 zip</th>\n",
       "      <th>000 000</th>\n",
       "      <th>000 10</th>\n",
       "      <th>...</th>\n",
       "      <th>zwolenkiewicz said</th>\n",
       "      <th>zwolle environment</th>\n",
       "      <th>zwolle netherlands</th>\n",
       "      <th>zwolle said</th>\n",
       "      <th>zyaira girl</th>\n",
       "      <th>zyaratgah remained</th>\n",
       "      <th>zynga also</th>\n",
       "      <th>zynga powerful</th>\n",
       "      <th>zytiga acquired</th>\n",
       "      <th>zzzzs also</th>\n",
       "    </tr>\n",
       "  </thead>\n",
       "  <tbody>\n",
       "    <tr>\n",
       "      <th>0</th>\n",
       "      <td>1</td>\n",
       "      <td>1</td>\n",
       "      <td>1</td>\n",
       "      <td>1</td>\n",
       "      <td>1</td>\n",
       "      <td>1</td>\n",
       "      <td>1</td>\n",
       "      <td>1</td>\n",
       "      <td>38</td>\n",
       "      <td>14</td>\n",
       "      <td>...</td>\n",
       "      <td>1</td>\n",
       "      <td>1</td>\n",
       "      <td>1</td>\n",
       "      <td>1</td>\n",
       "      <td>1</td>\n",
       "      <td>1</td>\n",
       "      <td>1</td>\n",
       "      <td>1</td>\n",
       "      <td>1</td>\n",
       "      <td>1</td>\n",
       "    </tr>\n",
       "  </tbody>\n",
       "</table>\n",
       "<p>1 rows × 2801296 columns</p>\n",
       "</div>"
      ],
      "text/plain": [
       "   00 crime  00 gop  00 job  00 mr  00 msnbcs  00 one  00 percent  00 zip  \\\n",
       "0         1       1       1      1          1       1           1       1   \n",
       "\n",
       "   000 000  000 10  ...  zwolenkiewicz said  zwolle environment  \\\n",
       "0       38      14  ...                   1                   1   \n",
       "\n",
       "   zwolle netherlands  zwolle said  zyaira girl  zyaratgah remained  \\\n",
       "0                   1            1            1                   1   \n",
       "\n",
       "   zynga also  zynga powerful  zytiga acquired  zzzzs also  \n",
       "0           1               1                1           1  \n",
       "\n",
       "[1 rows x 2801296 columns]"
      ]
     },
     "execution_count": 78,
     "metadata": {},
     "output_type": "execute_result"
    }
   ],
   "source": [
    "# Sum all the rows of 'X_counts' to 1 row, and store it in a data frame 'X_counts_df'\n",
    "X_counts_df = pd.DataFrame(X_counts.sum(axis=0))\n",
    "\n",
    "# Rename the columns with the words\n",
    "X_counts_df.columns = ngram_vect.get_feature_names()\n",
    "\n",
    "# Print a few rows of'X_counts_df'\n",
    "X_counts_df.head()"
   ]
  },
  {
   "cell_type": "code",
   "execution_count": 79,
   "metadata": {},
   "outputs": [
    {
     "data": {
      "text/html": [
       "<div>\n",
       "<style scoped>\n",
       "    .dataframe tbody tr th:only-of-type {\n",
       "        vertical-align: middle;\n",
       "    }\n",
       "\n",
       "    .dataframe tbody tr th {\n",
       "        vertical-align: top;\n",
       "    }\n",
       "\n",
       "    .dataframe thead th {\n",
       "        text-align: right;\n",
       "    }\n",
       "</style>\n",
       "<table border=\"1\" class=\"dataframe\">\n",
       "  <thead>\n",
       "    <tr style=\"text-align: right;\">\n",
       "      <th></th>\n",
       "      <th>count</th>\n",
       "    </tr>\n",
       "  </thead>\n",
       "  <tbody>\n",
       "    <tr>\n",
       "      <th>mr trump</th>\n",
       "      <td>16993</td>\n",
       "    </tr>\n",
       "    <tr>\n",
       "      <th>new york</th>\n",
       "      <td>12858</td>\n",
       "    </tr>\n",
       "    <tr>\n",
       "      <th>united state</th>\n",
       "      <td>8429</td>\n",
       "    </tr>\n",
       "    <tr>\n",
       "      <th>york time</th>\n",
       "      <td>8183</td>\n",
       "    </tr>\n",
       "    <tr>\n",
       "      <th>donald trump</th>\n",
       "      <td>5110</td>\n",
       "    </tr>\n",
       "    <tr>\n",
       "      <th>mr clinton</th>\n",
       "      <td>4237</td>\n",
       "    </tr>\n",
       "    <tr>\n",
       "      <th>white house</th>\n",
       "      <td>4062</td>\n",
       "    </tr>\n",
       "    <tr>\n",
       "      <th>last year</th>\n",
       "      <td>2975</td>\n",
       "    </tr>\n",
       "    <tr>\n",
       "      <th>said mr</th>\n",
       "      <td>2691</td>\n",
       "    </tr>\n",
       "    <tr>\n",
       "      <th>president trump</th>\n",
       "      <td>2357</td>\n",
       "    </tr>\n",
       "  </tbody>\n",
       "</table>\n",
       "</div>"
      ],
      "text/plain": [
       "                 count\n",
       "mr trump         16993\n",
       "new york         12858\n",
       "united state      8429\n",
       "york time         8183\n",
       "donald trump      5110\n",
       "mr clinton        4237\n",
       "white house       4062\n",
       "last year         2975\n",
       "said mr           2691\n",
       "president trump   2357"
      ]
     },
     "execution_count": 79,
     "metadata": {},
     "output_type": "execute_result"
    }
   ],
   "source": [
    "# Transpose the 'X_counts_df' and store in 'X_counts_df_transposed'\n",
    "X_counts_df_transposed = X_counts_df.T\n",
    "\n",
    "# Rename the column from 0 to 'count'\n",
    "X_counts_df_transposed.rename(columns={0: 'count'}, inplace = True)\n",
    "\n",
    "# Sort the dataframe by 'count' in descending order\n",
    "X_counts_df_transposed = X_counts_df_transposed.sort_values(by = 'count', ascending = False)\n",
    "\n",
    "# Print \"X_counts_df_transposed\"\n",
    "X_counts_df_transposed.head(10)"
   ]
  },
  {
   "cell_type": "code",
   "execution_count": 80,
   "metadata": {},
   "outputs": [],
   "source": [
    "# Store the top 20 2-word combinations into 'X_counts_df_transposed_top20'\n",
    "X_counts_df_transposed_top20 = X_counts_df_transposed.head(20)"
   ]
  },
  {
   "cell_type": "code",
   "execution_count": 81,
   "metadata": {},
   "outputs": [
    {
     "data": {
      "image/png": "[encoded data removed]",
      "text/plain": [
       "<Figure size 432x432 with 1 Axes>"
      ]
     },
     "metadata": {},
     "output_type": "display_data"
    }
   ],
   "source": [
    "# Plot the horizontal bar chart \n",
    "ax = X_counts_df_transposed_top20.plot(kind='barh', figsize = (6,6))\n",
    "ax.invert_yaxis()          # Invert the y-axis from more to less\n",
    "plt.xlabel('Frequency of 2-word appearance')\n",
    "plt.ylabel('Word')\n",
    "plt.title('Frequency of 2-word appearance appeared in real articles');\n",
    "# Save the chart\n",
    "plt.savefig('../presentation slides/Image Used in Slides/Frequency_of_2_words_real_articles.png');"
   ]
  },
  {
   "cell_type": "markdown",
   "metadata": {},
   "source": [
    "#### 2 x 2 N-Gram - Fake News"
   ]
  },
  {
   "cell_type": "code",
   "execution_count": 82,
   "metadata": {},
   "outputs": [
    {
     "name": "stdout",
     "output_type": "stream",
     "text": [
      "(9129, 1912334)\n"
     ]
    }
   ],
   "source": [
    "# Do a count vectorizer with a parameter of 2 by 2, bigram.\n",
    "ngram_vect = CountVectorizer(ngram_range=(2,2))\n",
    "\n",
    "# Transform the 'title_text_clean_joined' into a sparse matrix \n",
    "X_counts = ngram_vect.fit_transform(train_fake['title_text_clean_joined'])\n",
    "\n",
    "# The dataset has 1912334 unique 2-word\n",
    "print(X_counts.shape)"
   ]
  },
  {
   "cell_type": "code",
   "execution_count": 83,
   "metadata": {},
   "outputs": [
    {
     "data": {
      "text/html": [
       "<div>\n",
       "<style scoped>\n",
       "    .dataframe tbody tr th:only-of-type {\n",
       "        vertical-align: middle;\n",
       "    }\n",
       "\n",
       "    .dataframe tbody tr th {\n",
       "        vertical-align: top;\n",
       "    }\n",
       "\n",
       "    .dataframe thead th {\n",
       "        text-align: right;\n",
       "    }\n",
       "</style>\n",
       "<table border=\"1\" class=\"dataframe\">\n",
       "  <thead>\n",
       "    <tr style=\"text-align: right;\">\n",
       "      <th></th>\n",
       "      <th>00 athletic</th>\n",
       "      <th>00 economist</th>\n",
       "      <th>00 espanyol</th>\n",
       "      <th>00 flour</th>\n",
       "      <th>00 granada</th>\n",
       "      <th>00 la</th>\n",
       "      <th>00 mlaga</th>\n",
       "      <th>00 new</th>\n",
       "      <th>00 osasuna</th>\n",
       "      <th>00 prey</th>\n",
       "      <th>...</th>\n",
       "      <th>zygankow professor</th>\n",
       "      <th>zygar former</th>\n",
       "      <th>zygar recently</th>\n",
       "      <th>zygar warns</th>\n",
       "      <th>zylinderkopfdichtung jeweils</th>\n",
       "      <th>zymon williams</th>\n",
       "      <th>zytsov city</th>\n",
       "      <th>zyuganov communist</th>\n",
       "      <th>zyuganov mild</th>\n",
       "      <th>zyuganov surrendered</th>\n",
       "    </tr>\n",
       "  </thead>\n",
       "  <tbody>\n",
       "    <tr>\n",
       "      <th>0</th>\n",
       "      <td>1</td>\n",
       "      <td>1</td>\n",
       "      <td>1</td>\n",
       "      <td>1</td>\n",
       "      <td>1</td>\n",
       "      <td>1</td>\n",
       "      <td>2</td>\n",
       "      <td>1</td>\n",
       "      <td>2</td>\n",
       "      <td>1</td>\n",
       "      <td>...</td>\n",
       "      <td>1</td>\n",
       "      <td>1</td>\n",
       "      <td>1</td>\n",
       "      <td>1</td>\n",
       "      <td>1</td>\n",
       "      <td>1</td>\n",
       "      <td>1</td>\n",
       "      <td>1</td>\n",
       "      <td>3</td>\n",
       "      <td>3</td>\n",
       "    </tr>\n",
       "  </tbody>\n",
       "</table>\n",
       "<p>1 rows × 1912334 columns</p>\n",
       "</div>"
      ],
      "text/plain": [
       "   00 athletic  00 economist  00 espanyol  00 flour  00 granada  00 la  \\\n",
       "0            1             1            1         1           1      1   \n",
       "\n",
       "   00 mlaga  00 new  00 osasuna  00 prey  ...  zygankow professor  \\\n",
       "0         2       1           2        1  ...                   1   \n",
       "\n",
       "   zygar former  zygar recently  zygar warns  zylinderkopfdichtung jeweils  \\\n",
       "0             1               1            1                             1   \n",
       "\n",
       "   zymon williams  zytsov city  zyuganov communist  zyuganov mild  \\\n",
       "0               1            1                   1              3   \n",
       "\n",
       "   zyuganov surrendered  \n",
       "0                     3  \n",
       "\n",
       "[1 rows x 1912334 columns]"
      ]
     },
     "execution_count": 83,
     "metadata": {},
     "output_type": "execute_result"
    }
   ],
   "source": [
    "# Sum all the rows of 'X_counts' to 1 row, and store it in a data frame 'X_counts_df'\n",
    "X_counts_df = pd.DataFrame(X_counts.sum(axis=0))\n",
    "\n",
    "# Rename the columns with the words\n",
    "X_counts_df.columns = ngram_vect.get_feature_names()\n",
    "\n",
    "# Print'X_counts_df'\n",
    "X_counts_df.head()"
   ]
  },
  {
   "cell_type": "code",
   "execution_count": 84,
   "metadata": {},
   "outputs": [
    {
     "data": {
      "text/html": [
       "<div>\n",
       "<style scoped>\n",
       "    .dataframe tbody tr th:only-of-type {\n",
       "        vertical-align: middle;\n",
       "    }\n",
       "\n",
       "    .dataframe tbody tr th {\n",
       "        vertical-align: top;\n",
       "    }\n",
       "\n",
       "    .dataframe thead th {\n",
       "        text-align: right;\n",
       "    }\n",
       "</style>\n",
       "<table border=\"1\" class=\"dataframe\">\n",
       "  <thead>\n",
       "    <tr style=\"text-align: right;\">\n",
       "      <th></th>\n",
       "      <th>count</th>\n",
       "    </tr>\n",
       "  </thead>\n",
       "  <tbody>\n",
       "    <tr>\n",
       "      <th>hillary clinton</th>\n",
       "      <td>6275</td>\n",
       "    </tr>\n",
       "    <tr>\n",
       "      <th>donald trump</th>\n",
       "      <td>4817</td>\n",
       "    </tr>\n",
       "    <tr>\n",
       "      <th>united state</th>\n",
       "      <td>3609</td>\n",
       "    </tr>\n",
       "    <tr>\n",
       "      <th>white house</th>\n",
       "      <td>1867</td>\n",
       "    </tr>\n",
       "    <tr>\n",
       "      <th>new york</th>\n",
       "      <td>1850</td>\n",
       "    </tr>\n",
       "    <tr>\n",
       "      <th>clinton campaign</th>\n",
       "      <td>1350</td>\n",
       "    </tr>\n",
       "    <tr>\n",
       "      <th>november 2016</th>\n",
       "      <td>1178</td>\n",
       "    </tr>\n",
       "    <tr>\n",
       "      <th>clinton foundation</th>\n",
       "      <td>1064</td>\n",
       "    </tr>\n",
       "    <tr>\n",
       "      <th>secretary state</th>\n",
       "      <td>1056</td>\n",
       "    </tr>\n",
       "    <tr>\n",
       "      <th>bill clinton</th>\n",
       "      <td>1040</td>\n",
       "    </tr>\n",
       "  </tbody>\n",
       "</table>\n",
       "</div>"
      ],
      "text/plain": [
       "                    count\n",
       "hillary clinton      6275\n",
       "donald trump         4817\n",
       "united state         3609\n",
       "white house          1867\n",
       "new york             1850\n",
       "clinton campaign     1350\n",
       "november 2016        1178\n",
       "clinton foundation   1064\n",
       "secretary state      1056\n",
       "bill clinton         1040"
      ]
     },
     "execution_count": 84,
     "metadata": {},
     "output_type": "execute_result"
    }
   ],
   "source": [
    "# Transpose the 'X_counts_df' and store in 'X_counts_df_transposed'\n",
    "X_counts_df_transposed = X_counts_df.T\n",
    "\n",
    "# Rename the column from 0 to 'count'\n",
    "X_counts_df_transposed.rename(columns={0: 'count'}, inplace = True)\n",
    "\n",
    "# Sort the dataframe by 'count' in descending order\n",
    "X_counts_df_transposed = X_counts_df_transposed.sort_values(by = 'count', ascending = False)\n",
    "\n",
    "# Print a few rows of \"X_counts_df_transposed\"\n",
    "X_counts_df_transposed.head(10)"
   ]
  },
  {
   "cell_type": "code",
   "execution_count": 85,
   "metadata": {},
   "outputs": [],
   "source": [
    "# Store the top 20 2-word combinations into 'X_counts_df_transposed_top20'\n",
    "X_counts_df_transposed_top20 = X_counts_df_transposed.head(20)"
   ]
  },
  {
   "cell_type": "code",
   "execution_count": 86,
   "metadata": {},
   "outputs": [
    {
     "data": {
      "image/png": "[encoded data removed]",
      "text/plain": [
       "<Figure size 432x432 with 1 Axes>"
      ]
     },
     "metadata": {},
     "output_type": "display_data"
    }
   ],
   "source": [
    "# Plot the horizontal bar chart \n",
    "ax = X_counts_df_transposed_top20.plot(kind='barh', figsize = (6,6))\n",
    "ax.invert_yaxis()          # Invert the y-axis from more to less\n",
    "plt.xlabel('Frequency of 2-word appearance')\n",
    "plt.ylabel('Word')\n",
    "plt.title('Frequency of 2-word appearance appeared in fake articles');\n",
    "\n",
    "# Save the chart\n",
    "plt.savefig('../presentation slides/Image Used in Slides/Frequency_of_2_words_fake_articles.png');"
   ]
  },
  {
   "cell_type": "markdown",
   "metadata": {},
   "source": [
    "### To understand the sentiment of the articles that is real / fake"
   ]
  },
  {
   "cell_type": "markdown",
   "metadata": {},
   "source": [
    "#### Sentiment Analysis - Real News"
   ]
  },
  {
   "cell_type": "code",
   "execution_count": 87,
   "metadata": {},
   "outputs": [],
   "source": [
    "# Define a function to calculate sentiment scores for the 'title_text'\n",
    "def scores(s):\n",
    "    sia = SIA()\n",
    "    pol_score = sia.polarity_scores(s['title_text'])\n",
    "    return s.append(pd.Series(list(pol_score.values()), index=pol_score.keys()))"
   ]
  },
  {
   "cell_type": "code",
   "execution_count": 88,
   "metadata": {},
   "outputs": [],
   "source": [
    "# Apply the function to df\n",
    "train_real = train_real.apply(scores, axis=1)"
   ]
  },
  {
   "cell_type": "code",
   "execution_count": 89,
   "metadata": {},
   "outputs": [
    {
     "data": {
      "text/html": [
       "<div>\n",
       "<style scoped>\n",
       "    .dataframe tbody tr th:only-of-type {\n",
       "        vertical-align: middle;\n",
       "    }\n",
       "\n",
       "    .dataframe tbody tr th {\n",
       "        vertical-align: top;\n",
       "    }\n",
       "\n",
       "    .dataframe thead th {\n",
       "        text-align: right;\n",
       "    }\n",
       "</style>\n",
       "<table border=\"1\" class=\"dataframe\">\n",
       "  <thead>\n",
       "    <tr style=\"text-align: right;\">\n",
       "      <th></th>\n",
       "      <th>id</th>\n",
       "      <th>label</th>\n",
       "      <th>article_length_word</th>\n",
       "      <th>neg</th>\n",
       "      <th>neu</th>\n",
       "      <th>pos</th>\n",
       "      <th>compound</th>\n",
       "    </tr>\n",
       "  </thead>\n",
       "  <tbody>\n",
       "    <tr>\n",
       "      <th>count</th>\n",
       "      <td>10381.000000</td>\n",
       "      <td>10381.0</td>\n",
       "      <td>10381.000000</td>\n",
       "      <td>10381.000000</td>\n",
       "      <td>10381.000000</td>\n",
       "      <td>10381.000000</td>\n",
       "      <td>10381.000000</td>\n",
       "    </tr>\n",
       "    <tr>\n",
       "      <th>mean</th>\n",
       "      <td>10394.154417</td>\n",
       "      <td>0.0</td>\n",
       "      <td>907.812735</td>\n",
       "      <td>0.077571</td>\n",
       "      <td>0.837282</td>\n",
       "      <td>0.085141</td>\n",
       "      <td>0.149860</td>\n",
       "    </tr>\n",
       "    <tr>\n",
       "      <th>std</th>\n",
       "      <td>5982.188506</td>\n",
       "      <td>0.0</td>\n",
       "      <td>765.572366</td>\n",
       "      <td>0.045931</td>\n",
       "      <td>0.050368</td>\n",
       "      <td>0.037692</td>\n",
       "      <td>0.903793</td>\n",
       "    </tr>\n",
       "    <tr>\n",
       "      <th>min</th>\n",
       "      <td>1.000000</td>\n",
       "      <td>0.0</td>\n",
       "      <td>1.000000</td>\n",
       "      <td>0.000000</td>\n",
       "      <td>0.504000</td>\n",
       "      <td>0.000000</td>\n",
       "      <td>-1.000000</td>\n",
       "    </tr>\n",
       "    <tr>\n",
       "      <th>25%</th>\n",
       "      <td>5227.000000</td>\n",
       "      <td>0.0</td>\n",
       "      <td>417.000000</td>\n",
       "      <td>0.045000</td>\n",
       "      <td>0.806000</td>\n",
       "      <td>0.059000</td>\n",
       "      <td>-0.961900</td>\n",
       "    </tr>\n",
       "    <tr>\n",
       "      <th>50%</th>\n",
       "      <td>10399.000000</td>\n",
       "      <td>0.0</td>\n",
       "      <td>798.000000</td>\n",
       "      <td>0.069000</td>\n",
       "      <td>0.840000</td>\n",
       "      <td>0.082000</td>\n",
       "      <td>0.790600</td>\n",
       "    </tr>\n",
       "    <tr>\n",
       "      <th>75%</th>\n",
       "      <td>15567.000000</td>\n",
       "      <td>0.0</td>\n",
       "      <td>1215.000000</td>\n",
       "      <td>0.101000</td>\n",
       "      <td>0.871000</td>\n",
       "      <td>0.107000</td>\n",
       "      <td>0.989600</td>\n",
       "    </tr>\n",
       "    <tr>\n",
       "      <th>max</th>\n",
       "      <td>20797.000000</td>\n",
       "      <td>0.0</td>\n",
       "      <td>15272.000000</td>\n",
       "      <td>0.375000</td>\n",
       "      <td>1.000000</td>\n",
       "      <td>0.315000</td>\n",
       "      <td>1.000000</td>\n",
       "    </tr>\n",
       "  </tbody>\n",
       "</table>\n",
       "</div>"
      ],
      "text/plain": [
       "                 id    label  article_length_word           neg           neu  \\\n",
       "count  10381.000000  10381.0         10381.000000  10381.000000  10381.000000   \n",
       "mean   10394.154417      0.0           907.812735      0.077571      0.837282   \n",
       "std     5982.188506      0.0           765.572366      0.045931      0.050368   \n",
       "min        1.000000      0.0             1.000000      0.000000      0.504000   \n",
       "25%     5227.000000      0.0           417.000000      0.045000      0.806000   \n",
       "50%    10399.000000      0.0           798.000000      0.069000      0.840000   \n",
       "75%    15567.000000      0.0          1215.000000      0.101000      0.871000   \n",
       "max    20797.000000      0.0         15272.000000      0.375000      1.000000   \n",
       "\n",
       "                pos      compound  \n",
       "count  10381.000000  10381.000000  \n",
       "mean       0.085141      0.149860  \n",
       "std        0.037692      0.903793  \n",
       "min        0.000000     -1.000000  \n",
       "25%        0.059000     -0.961900  \n",
       "50%        0.082000      0.790600  \n",
       "75%        0.107000      0.989600  \n",
       "max        0.315000      1.000000  "
      ]
     },
     "execution_count": 89,
     "metadata": {},
     "output_type": "execute_result"
    }
   ],
   "source": [
    "# Print the df describe info\n",
    "train_real.describe()"
   ]
  },
  {
   "cell_type": "markdown",
   "metadata": {},
   "source": [
    "According to [(source)](https://predictivehacks.com/how-to-run-sentiment-analysis-in-python-using-vader),\n",
    "\n",
    "The Compound score is a metric that calculates the sum of all the lexicon ratings which have been normalized between -1(most extreme negative) and +1 (most extreme positive).\n",
    "\n",
    "positive sentiment : (compound score >= 0.05) \n",
    "\n",
    "neutral sentiment : (compound score > -0.05) and (compound score < 0.05) \n",
    "\n",
    "negative sentiment : (compound score <= -0.05)"
   ]
  },
  {
   "cell_type": "code",
   "execution_count": 90,
   "metadata": {},
   "outputs": [
    {
     "data": {
      "text/html": [
       "<div>\n",
       "<style scoped>\n",
       "    .dataframe tbody tr th:only-of-type {\n",
       "        vertical-align: middle;\n",
       "    }\n",
       "\n",
       "    .dataframe tbody tr th {\n",
       "        vertical-align: top;\n",
       "    }\n",
       "\n",
       "    .dataframe thead th {\n",
       "        text-align: right;\n",
       "    }\n",
       "</style>\n",
       "<table border=\"1\" class=\"dataframe\">\n",
       "  <thead>\n",
       "    <tr style=\"text-align: right;\">\n",
       "      <th></th>\n",
       "      <th>id</th>\n",
       "      <th>title</th>\n",
       "      <th>author</th>\n",
       "      <th>text</th>\n",
       "      <th>label</th>\n",
       "      <th>title_text</th>\n",
       "      <th>title_text_clean</th>\n",
       "      <th>article_length_word</th>\n",
       "      <th>title_text_clean_joined</th>\n",
       "      <th>neg</th>\n",
       "      <th>neu</th>\n",
       "      <th>pos</th>\n",
       "      <th>compound</th>\n",
       "      <th>compound_score</th>\n",
       "    </tr>\n",
       "  </thead>\n",
       "  <tbody>\n",
       "    <tr>\n",
       "      <th>1</th>\n",
       "      <td>1</td>\n",
       "      <td>FLYNN: Hillary Clinton, Big Woman on Campus - ...</td>\n",
       "      <td>Daniel J. Flynn</td>\n",
       "      <td>Ever get the feeling your life circles the rou...</td>\n",
       "      <td>0</td>\n",
       "      <td>FLYNN: Hillary Clinton, Big Woman on Campus - ...</td>\n",
       "      <td>[flynn, hillary, clinton, big, woman, campus, ...</td>\n",
       "      <td>727</td>\n",
       "      <td>flynn hillary clinton big woman campus breitba...</td>\n",
       "      <td>0.070</td>\n",
       "      <td>0.868</td>\n",
       "      <td>0.062</td>\n",
       "      <td>-0.7112</td>\n",
       "      <td>negative</td>\n",
       "    </tr>\n",
       "    <tr>\n",
       "      <th>5</th>\n",
       "      <td>5</td>\n",
       "      <td>Jackie Mason: Hollywood Would Love Trump if He...</td>\n",
       "      <td>Daniel Nussbaum</td>\n",
       "      <td>In these trying times, Jackie Mason is the Voi...</td>\n",
       "      <td>0</td>\n",
       "      <td>Jackie Mason: Hollywood Would Love Trump if He...</td>\n",
       "      <td>[jackie, mason, hollywood, would, love, trump,...</td>\n",
       "      <td>206</td>\n",
       "      <td>jackie mason hollywood would love trump bombed...</td>\n",
       "      <td>0.085</td>\n",
       "      <td>0.763</td>\n",
       "      <td>0.152</td>\n",
       "      <td>0.9678</td>\n",
       "      <td>positive</td>\n",
       "    </tr>\n",
       "    <tr>\n",
       "      <th>7</th>\n",
       "      <td>7</td>\n",
       "      <td>Benoît Hamon Wins French Socialist Party’s Pre...</td>\n",
       "      <td>Alissa J. Rubin</td>\n",
       "      <td>PARIS  —   France chose an idealistic, traditi...</td>\n",
       "      <td>0</td>\n",
       "      <td>Benoît Hamon Wins French Socialist Party’s Pre...</td>\n",
       "      <td>[benot, hamon, win, french, socialist, party, ...</td>\n",
       "      <td>849</td>\n",
       "      <td>benot hamon win french socialist party preside...</td>\n",
       "      <td>0.037</td>\n",
       "      <td>0.829</td>\n",
       "      <td>0.134</td>\n",
       "      <td>0.9980</td>\n",
       "      <td>positive</td>\n",
       "    </tr>\n",
       "    <tr>\n",
       "      <th>8</th>\n",
       "      <td>8</td>\n",
       "      <td>Excerpts From a Draft Script for Donald Trump’...</td>\n",
       "      <td>-</td>\n",
       "      <td>Donald J. Trump is scheduled to make a highly ...</td>\n",
       "      <td>0</td>\n",
       "      <td>Excerpts From a Draft Script for Donald Trump’...</td>\n",
       "      <td>[excerpt, draft, script, donald, trump, qampa,...</td>\n",
       "      <td>1452</td>\n",
       "      <td>excerpt draft script donald trump qampa black ...</td>\n",
       "      <td>0.037</td>\n",
       "      <td>0.804</td>\n",
       "      <td>0.159</td>\n",
       "      <td>0.9996</td>\n",
       "      <td>positive</td>\n",
       "    </tr>\n",
       "    <tr>\n",
       "      <th>9</th>\n",
       "      <td>9</td>\n",
       "      <td>A Back-Channel Plan for Ukraine and Russia, Co...</td>\n",
       "      <td>Megan Twohey and Scott Shane</td>\n",
       "      <td>A week before Michael T. Flynn resigned as nat...</td>\n",
       "      <td>0</td>\n",
       "      <td>A Back-Channel Plan for Ukraine and Russia, Co...</td>\n",
       "      <td>[backchannel, plan, ukraine, russia, courtesy,...</td>\n",
       "      <td>1773</td>\n",
       "      <td>backchannel plan ukraine russia courtesy trump...</td>\n",
       "      <td>0.041</td>\n",
       "      <td>0.875</td>\n",
       "      <td>0.084</td>\n",
       "      <td>0.9966</td>\n",
       "      <td>positive</td>\n",
       "    </tr>\n",
       "  </tbody>\n",
       "</table>\n",
       "</div>"
      ],
      "text/plain": [
       "   id                                              title  \\\n",
       "1   1  FLYNN: Hillary Clinton, Big Woman on Campus - ...   \n",
       "5   5  Jackie Mason: Hollywood Would Love Trump if He...   \n",
       "7   7  Benoît Hamon Wins French Socialist Party’s Pre...   \n",
       "8   8  Excerpts From a Draft Script for Donald Trump’...   \n",
       "9   9  A Back-Channel Plan for Ukraine and Russia, Co...   \n",
       "\n",
       "                         author  \\\n",
       "1               Daniel J. Flynn   \n",
       "5               Daniel Nussbaum   \n",
       "7               Alissa J. Rubin   \n",
       "8                             -   \n",
       "9  Megan Twohey and Scott Shane   \n",
       "\n",
       "                                                text  label  \\\n",
       "1  Ever get the feeling your life circles the rou...      0   \n",
       "5  In these trying times, Jackie Mason is the Voi...      0   \n",
       "7  PARIS  —   France chose an idealistic, traditi...      0   \n",
       "8  Donald J. Trump is scheduled to make a highly ...      0   \n",
       "9  A week before Michael T. Flynn resigned as nat...      0   \n",
       "\n",
       "                                          title_text  \\\n",
       "1  FLYNN: Hillary Clinton, Big Woman on Campus - ...   \n",
       "5  Jackie Mason: Hollywood Would Love Trump if He...   \n",
       "7  Benoît Hamon Wins French Socialist Party’s Pre...   \n",
       "8  Excerpts From a Draft Script for Donald Trump’...   \n",
       "9  A Back-Channel Plan for Ukraine and Russia, Co...   \n",
       "\n",
       "                                    title_text_clean  article_length_word  \\\n",
       "1  [flynn, hillary, clinton, big, woman, campus, ...                  727   \n",
       "5  [jackie, mason, hollywood, would, love, trump,...                  206   \n",
       "7  [benot, hamon, win, french, socialist, party, ...                  849   \n",
       "8  [excerpt, draft, script, donald, trump, qampa,...                 1452   \n",
       "9  [backchannel, plan, ukraine, russia, courtesy,...                 1773   \n",
       "\n",
       "                             title_text_clean_joined    neg    neu    pos  \\\n",
       "1  flynn hillary clinton big woman campus breitba...  0.070  0.868  0.062   \n",
       "5  jackie mason hollywood would love trump bombed...  0.085  0.763  0.152   \n",
       "7  benot hamon win french socialist party preside...  0.037  0.829  0.134   \n",
       "8  excerpt draft script donald trump qampa black ...  0.037  0.804  0.159   \n",
       "9  backchannel plan ukraine russia courtesy trump...  0.041  0.875  0.084   \n",
       "\n",
       "   compound compound_score  \n",
       "1   -0.7112       negative  \n",
       "5    0.9678       positive  \n",
       "7    0.9980       positive  \n",
       "8    0.9996       positive  \n",
       "9    0.9966       positive  "
      ]
     },
     "execution_count": 90,
     "metadata": {},
     "output_type": "execute_result"
    }
   ],
   "source": [
    "# Based on the 'compound' number, label each entry as positive, neutral, or negative in a new column \"compound_score\"\n",
    "train_real['compound_score'] = train_real['compound'].apply(lambda x: 'positive' if x >=0.05 else ('negative' if x <=(-0.05) else 'neutral'))\n",
    "\n",
    "# Print some rows of train_real\n",
    "train_real.head()"
   ]
  },
  {
   "cell_type": "code",
   "execution_count": 91,
   "metadata": {},
   "outputs": [
    {
     "data": {
      "image/png": "[encoded data removed]",
      "text/plain": [
       "<Figure size 576x360 with 1 Axes>"
      ]
     },
     "metadata": {},
     "output_type": "display_data"
    },
    {
     "data": {
      "text/plain": [
       "<Figure size 432x432 with 0 Axes>"
      ]
     },
     "metadata": {},
     "output_type": "display_data"
    }
   ],
   "source": [
    "# Plot countplot of each compound score\n",
    "plt.figure(figsize=(8,5));\n",
    "sns.countplot(train_real['compound_score'].sort_values(ascending=True));\n",
    "plt.title('Sentiment Analysis of Real News Articles');\n",
    "\n",
    "plt.show();\n",
    "\n",
    "# Save the chart\n",
    "plt.savefig('../presentation slides/Image Used in Slides/Sentiment Analysis of Real News Articles.png');"
   ]
  },
  {
   "cell_type": "markdown",
   "metadata": {},
   "source": [
    "#### Sentiment Analysis - Fake News"
   ]
  },
  {
   "cell_type": "code",
   "execution_count": 92,
   "metadata": {},
   "outputs": [],
   "source": [
    "# Apply the sentiment score function to df\n",
    "train_fake = train_fake.apply(scores, axis=1)"
   ]
  },
  {
   "cell_type": "code",
   "execution_count": 93,
   "metadata": {},
   "outputs": [
    {
     "data": {
      "text/html": [
       "<div>\n",
       "<style scoped>\n",
       "    .dataframe tbody tr th:only-of-type {\n",
       "        vertical-align: middle;\n",
       "    }\n",
       "\n",
       "    .dataframe tbody tr th {\n",
       "        vertical-align: top;\n",
       "    }\n",
       "\n",
       "    .dataframe thead th {\n",
       "        text-align: right;\n",
       "    }\n",
       "</style>\n",
       "<table border=\"1\" class=\"dataframe\">\n",
       "  <thead>\n",
       "    <tr style=\"text-align: right;\">\n",
       "      <th></th>\n",
       "      <th>id</th>\n",
       "      <th>label</th>\n",
       "      <th>article_length_word</th>\n",
       "      <th>neg</th>\n",
       "      <th>neu</th>\n",
       "      <th>pos</th>\n",
       "      <th>compound</th>\n",
       "    </tr>\n",
       "  </thead>\n",
       "  <tbody>\n",
       "    <tr>\n",
       "      <th>count</th>\n",
       "      <td>9129.000000</td>\n",
       "      <td>9129.0</td>\n",
       "      <td>9129.000000</td>\n",
       "      <td>9129.000000</td>\n",
       "      <td>9129.000000</td>\n",
       "      <td>9129.000000</td>\n",
       "      <td>9129.000000</td>\n",
       "    </tr>\n",
       "    <tr>\n",
       "      <th>mean</th>\n",
       "      <td>10570.693614</td>\n",
       "      <td>1.0</td>\n",
       "      <td>677.735239</td>\n",
       "      <td>0.084403</td>\n",
       "      <td>0.829563</td>\n",
       "      <td>0.086024</td>\n",
       "      <td>0.002308</td>\n",
       "    </tr>\n",
       "    <tr>\n",
       "      <th>std</th>\n",
       "      <td>6028.027979</td>\n",
       "      <td>0.0</td>\n",
       "      <td>989.830703</td>\n",
       "      <td>0.054995</td>\n",
       "      <td>0.070785</td>\n",
       "      <td>0.049584</td>\n",
       "      <td>0.859383</td>\n",
       "    </tr>\n",
       "    <tr>\n",
       "      <th>min</th>\n",
       "      <td>0.000000</td>\n",
       "      <td>1.0</td>\n",
       "      <td>1.000000</td>\n",
       "      <td>0.000000</td>\n",
       "      <td>0.407000</td>\n",
       "      <td>0.000000</td>\n",
       "      <td>-1.000000</td>\n",
       "    </tr>\n",
       "    <tr>\n",
       "      <th>25%</th>\n",
       "      <td>5367.000000</td>\n",
       "      <td>1.0</td>\n",
       "      <td>208.000000</td>\n",
       "      <td>0.046000</td>\n",
       "      <td>0.785000</td>\n",
       "      <td>0.055000</td>\n",
       "      <td>-0.955200</td>\n",
       "    </tr>\n",
       "    <tr>\n",
       "      <th>50%</th>\n",
       "      <td>10620.000000</td>\n",
       "      <td>1.0</td>\n",
       "      <td>417.000000</td>\n",
       "      <td>0.078000</td>\n",
       "      <td>0.828000</td>\n",
       "      <td>0.083000</td>\n",
       "      <td>0.000000</td>\n",
       "    </tr>\n",
       "    <tr>\n",
       "      <th>75%</th>\n",
       "      <td>15782.000000</td>\n",
       "      <td>1.0</td>\n",
       "      <td>819.000000</td>\n",
       "      <td>0.117000</td>\n",
       "      <td>0.871000</td>\n",
       "      <td>0.112000</td>\n",
       "      <td>0.949600</td>\n",
       "    </tr>\n",
       "    <tr>\n",
       "      <th>max</th>\n",
       "      <td>20799.000000</td>\n",
       "      <td>1.0</td>\n",
       "      <td>24234.000000</td>\n",
       "      <td>0.566000</td>\n",
       "      <td>1.000000</td>\n",
       "      <td>0.474000</td>\n",
       "      <td>1.000000</td>\n",
       "    </tr>\n",
       "  </tbody>\n",
       "</table>\n",
       "</div>"
      ],
      "text/plain": [
       "                 id   label  article_length_word          neg          neu  \\\n",
       "count   9129.000000  9129.0          9129.000000  9129.000000  9129.000000   \n",
       "mean   10570.693614     1.0           677.735239     0.084403     0.829563   \n",
       "std     6028.027979     0.0           989.830703     0.054995     0.070785   \n",
       "min        0.000000     1.0             1.000000     0.000000     0.407000   \n",
       "25%     5367.000000     1.0           208.000000     0.046000     0.785000   \n",
       "50%    10620.000000     1.0           417.000000     0.078000     0.828000   \n",
       "75%    15782.000000     1.0           819.000000     0.117000     0.871000   \n",
       "max    20799.000000     1.0         24234.000000     0.566000     1.000000   \n",
       "\n",
       "               pos     compound  \n",
       "count  9129.000000  9129.000000  \n",
       "mean      0.086024     0.002308  \n",
       "std       0.049584     0.859383  \n",
       "min       0.000000    -1.000000  \n",
       "25%       0.055000    -0.955200  \n",
       "50%       0.083000     0.000000  \n",
       "75%       0.112000     0.949600  \n",
       "max       0.474000     1.000000  "
      ]
     },
     "execution_count": 93,
     "metadata": {},
     "output_type": "execute_result"
    }
   ],
   "source": [
    "# Print the df describe info\n",
    "train_fake.describe()"
   ]
  },
  {
   "cell_type": "markdown",
   "metadata": {},
   "source": [
    "According to [(source)](https://predictivehacks.com/how-to-run-sentiment-analysis-in-python-using-vader),\n",
    "\n",
    "The Compound score is a metric that calculates the sum of all the lexicon ratings which have been normalized between -1(most extreme negative) and +1 (most extreme positive).\n",
    "\n",
    "positive sentiment : (compound score >= 0.05) \n",
    "\n",
    "neutral sentiment : (compound score > -0.05) and (compound score < 0.05) \n",
    "\n",
    "negative sentiment : (compound score <= -0.05)"
   ]
  },
  {
   "cell_type": "code",
   "execution_count": 94,
   "metadata": {
    "scrolled": true
   },
   "outputs": [
    {
     "data": {
      "text/html": [
       "<div>\n",
       "<style scoped>\n",
       "    .dataframe tbody tr th:only-of-type {\n",
       "        vertical-align: middle;\n",
       "    }\n",
       "\n",
       "    .dataframe tbody tr th {\n",
       "        vertical-align: top;\n",
       "    }\n",
       "\n",
       "    .dataframe thead th {\n",
       "        text-align: right;\n",
       "    }\n",
       "</style>\n",
       "<table border=\"1\" class=\"dataframe\">\n",
       "  <thead>\n",
       "    <tr style=\"text-align: right;\">\n",
       "      <th></th>\n",
       "      <th>id</th>\n",
       "      <th>title</th>\n",
       "      <th>author</th>\n",
       "      <th>text</th>\n",
       "      <th>label</th>\n",
       "      <th>title_text</th>\n",
       "      <th>title_text_clean</th>\n",
       "      <th>article_length_word</th>\n",
       "      <th>title_text_clean_joined</th>\n",
       "      <th>neg</th>\n",
       "      <th>neu</th>\n",
       "      <th>pos</th>\n",
       "      <th>compound</th>\n",
       "      <th>compound_score</th>\n",
       "    </tr>\n",
       "  </thead>\n",
       "  <tbody>\n",
       "    <tr>\n",
       "      <th>0</th>\n",
       "      <td>0</td>\n",
       "      <td>House Dem Aide: We Didn’t Even See Comey’s Let...</td>\n",
       "      <td>Darrell Lucus</td>\n",
       "      <td>House Dem Aide: We Didn’t Even See Comey’s Let...</td>\n",
       "      <td>1</td>\n",
       "      <td>House Dem Aide: We Didn’t Even See Comey’s Let...</td>\n",
       "      <td>[house, dem, aide, didnt, even, see, comeys, l...</td>\n",
       "      <td>820</td>\n",
       "      <td>house dem aide didnt even see comeys letter ja...</td>\n",
       "      <td>0.052</td>\n",
       "      <td>0.900</td>\n",
       "      <td>0.049</td>\n",
       "      <td>-0.8957</td>\n",
       "      <td>negative</td>\n",
       "    </tr>\n",
       "    <tr>\n",
       "      <th>2</th>\n",
       "      <td>2</td>\n",
       "      <td>Why the Truth Might Get You Fired</td>\n",
       "      <td>Consortiumnews.com</td>\n",
       "      <td>Why the Truth Might Get You Fired October 29, ...</td>\n",
       "      <td>1</td>\n",
       "      <td>Why the Truth Might Get You Fired Why the Trut...</td>\n",
       "      <td>[truth, might, get, fired, truth, might, get, ...</td>\n",
       "      <td>1266</td>\n",
       "      <td>truth might get fired truth might get fired oc...</td>\n",
       "      <td>0.107</td>\n",
       "      <td>0.748</td>\n",
       "      <td>0.145</td>\n",
       "      <td>0.9949</td>\n",
       "      <td>positive</td>\n",
       "    </tr>\n",
       "    <tr>\n",
       "      <th>3</th>\n",
       "      <td>3</td>\n",
       "      <td>15 Civilians Killed In Single US Airstrike Hav...</td>\n",
       "      <td>Jessica Purkiss</td>\n",
       "      <td>Videos 15 Civilians Killed In Single US Airstr...</td>\n",
       "      <td>1</td>\n",
       "      <td>15 Civilians Killed In Single US Airstrike Hav...</td>\n",
       "      <td>[15, civilian, killed, single, u, airstrike, i...</td>\n",
       "      <td>559</td>\n",
       "      <td>15 civilian killed single u airstrike identifi...</td>\n",
       "      <td>0.220</td>\n",
       "      <td>0.748</td>\n",
       "      <td>0.032</td>\n",
       "      <td>-0.9989</td>\n",
       "      <td>negative</td>\n",
       "    </tr>\n",
       "    <tr>\n",
       "      <th>4</th>\n",
       "      <td>4</td>\n",
       "      <td>Iranian woman jailed for fictional unpublished...</td>\n",
       "      <td>Howard Portnoy</td>\n",
       "      <td>Print \\nAn Iranian woman has been sentenced to...</td>\n",
       "      <td>1</td>\n",
       "      <td>Iranian woman jailed for fictional unpublished...</td>\n",
       "      <td>[iranian, woman, jailed, fictional, unpublishe...</td>\n",
       "      <td>154</td>\n",
       "      <td>iranian woman jailed fictional unpublished sto...</td>\n",
       "      <td>0.161</td>\n",
       "      <td>0.814</td>\n",
       "      <td>0.025</td>\n",
       "      <td>-0.9753</td>\n",
       "      <td>negative</td>\n",
       "    </tr>\n",
       "    <tr>\n",
       "      <th>6</th>\n",
       "      <td>6</td>\n",
       "      <td>Life: Life Of Luxury: Elton John’s 6 Favorite ...</td>\n",
       "      <td>-</td>\n",
       "      <td>Ever wonder how Britain’s most iconic pop pian...</td>\n",
       "      <td>1</td>\n",
       "      <td>Life: Life Of Luxury: Elton John’s 6 Favorite ...</td>\n",
       "      <td>[life, life, luxury, elton, john, 6, favorite,...</td>\n",
       "      <td>489</td>\n",
       "      <td>life life luxury elton john 6 favorite shark p...</td>\n",
       "      <td>0.008</td>\n",
       "      <td>0.871</td>\n",
       "      <td>0.120</td>\n",
       "      <td>0.9958</td>\n",
       "      <td>positive</td>\n",
       "    </tr>\n",
       "  </tbody>\n",
       "</table>\n",
       "</div>"
      ],
      "text/plain": [
       "   id                                              title              author  \\\n",
       "0   0  House Dem Aide: We Didn’t Even See Comey’s Let...       Darrell Lucus   \n",
       "2   2                  Why the Truth Might Get You Fired  Consortiumnews.com   \n",
       "3   3  15 Civilians Killed In Single US Airstrike Hav...     Jessica Purkiss   \n",
       "4   4  Iranian woman jailed for fictional unpublished...      Howard Portnoy   \n",
       "6   6  Life: Life Of Luxury: Elton John’s 6 Favorite ...                   -   \n",
       "\n",
       "                                                text  label  \\\n",
       "0  House Dem Aide: We Didn’t Even See Comey’s Let...      1   \n",
       "2  Why the Truth Might Get You Fired October 29, ...      1   \n",
       "3  Videos 15 Civilians Killed In Single US Airstr...      1   \n",
       "4  Print \\nAn Iranian woman has been sentenced to...      1   \n",
       "6  Ever wonder how Britain’s most iconic pop pian...      1   \n",
       "\n",
       "                                          title_text  \\\n",
       "0  House Dem Aide: We Didn’t Even See Comey’s Let...   \n",
       "2  Why the Truth Might Get You Fired Why the Trut...   \n",
       "3  15 Civilians Killed In Single US Airstrike Hav...   \n",
       "4  Iranian woman jailed for fictional unpublished...   \n",
       "6  Life: Life Of Luxury: Elton John’s 6 Favorite ...   \n",
       "\n",
       "                                    title_text_clean  article_length_word  \\\n",
       "0  [house, dem, aide, didnt, even, see, comeys, l...                  820   \n",
       "2  [truth, might, get, fired, truth, might, get, ...                 1266   \n",
       "3  [15, civilian, killed, single, u, airstrike, i...                  559   \n",
       "4  [iranian, woman, jailed, fictional, unpublishe...                  154   \n",
       "6  [life, life, luxury, elton, john, 6, favorite,...                  489   \n",
       "\n",
       "                             title_text_clean_joined    neg    neu    pos  \\\n",
       "0  house dem aide didnt even see comeys letter ja...  0.052  0.900  0.049   \n",
       "2  truth might get fired truth might get fired oc...  0.107  0.748  0.145   \n",
       "3  15 civilian killed single u airstrike identifi...  0.220  0.748  0.032   \n",
       "4  iranian woman jailed fictional unpublished sto...  0.161  0.814  0.025   \n",
       "6  life life luxury elton john 6 favorite shark p...  0.008  0.871  0.120   \n",
       "\n",
       "   compound compound_score  \n",
       "0   -0.8957       negative  \n",
       "2    0.9949       positive  \n",
       "3   -0.9989       negative  \n",
       "4   -0.9753       negative  \n",
       "6    0.9958       positive  "
      ]
     },
     "execution_count": 94,
     "metadata": {},
     "output_type": "execute_result"
    }
   ],
   "source": [
    "# Based on the 'compound' number, label each entry as positive, neutral, or negative in a new column \"compound_score\"\n",
    "train_fake['compound_score'] = train_fake['compound'].apply(lambda x: 'positive' if x >=0.05 else ('negative' if x <=(-0.05) else 'neutral'))\n",
    "\n",
    "# Print some rows of train_fake\n",
    "train_fake.head()"
   ]
  },
  {
   "cell_type": "code",
   "execution_count": 95,
   "metadata": {},
   "outputs": [
    {
     "data": {
      "image/png": "[encoded data removed]",
      "text/plain": [
       "<Figure size 576x360 with 1 Axes>"
      ]
     },
     "metadata": {},
     "output_type": "display_data"
    },
    {
     "data": {
      "text/plain": [
       "<Figure size 432x432 with 0 Axes>"
      ]
     },
     "metadata": {},
     "output_type": "display_data"
    }
   ],
   "source": [
    "# Plot countplot of each compound score\n",
    "plt.figure(figsize=(8,5));\n",
    "sns.countplot(train_fake['compound_score'].sort_values(ascending=True));\n",
    "plt.title('Sentiment Analysis of Fake News Articles');\n",
    "\n",
    "plt.show();\n",
    "\n",
    "# Save the chart\n",
    "plt.savefig('../presentation slides/Image Used in Slides/Sentiment Analysis of Fake News Articles.png');"
   ]
  }
 ],
 "metadata": {
  "kernelspec": {
   "display_name": "Python 3",
   "language": "python",
   "name": "python3"
  },
  "language_info": {
   "codemirror_mode": {
    "name": "ipython",
    "version": 3
   },
   "file_extension": ".py",
   "mimetype": "text/x-python",
   "name": "python",
   "nbconvert_exporter": "python",
   "pygments_lexer": "ipython3",
   "version": "3.8.5"
  }
 },
 "nbformat": 4,
 "nbformat_minor": 4
}
